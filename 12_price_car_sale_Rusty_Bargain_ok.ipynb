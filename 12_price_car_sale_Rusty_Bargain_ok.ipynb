{
 "cells": [
  {
   "attachments": {},
   "cell_type": "markdown",
   "metadata": {},
   "source": [
    "# Venta de autos usados Rusty Bargain\n",
    "\n",
    "# Descripción\n",
    "El servicio de venta de autos usados *Rusty Bargain* está desarrollando una aplicación para atraer nuevos clientes. Gracias a esa app, puedes averiguar rápidamente el valor de mercado de tu coche. \n",
    "\n",
    "Tenemos acceso al historial: especificaciones técnicas, versiones de equipamiento y precios. \n",
    "\n",
    "\n",
    "## Objetivo\n",
    "\n",
    "- Crear un modelo de machine learning que determine el valor de mercado. \n",
    "- Evaluar nuestro modelo en base a:\n",
    "    - la **calidad** de la predicción\n",
    "    - la **velocidad** de la predicción\n",
    "    - el **tiempo** requerido para el entrenamiento"
   ]
  },
  {
   "attachments": {},
   "cell_type": "markdown",
   "metadata": {},
   "source": [
    "# Preparación de datos"
   ]
  },
  {
   "cell_type": "code",
   "execution_count": 1,
   "metadata": {},
   "outputs": [
    {
     "name": "stdout",
     "output_type": "stream",
     "text": [
      "Last updated: 2023-05-09T21:29:10.844610-05:00\n",
      "\n",
      "Python implementation: CPython\n",
      "Python version       : 3.9.15\n",
      "IPython version      : 8.12.0\n",
      "\n",
      "Compiler    : MSC v.1929 64 bit (AMD64)\n",
      "OS          : Windows\n",
      "Release     : 10\n",
      "Machine     : AMD64\n",
      "Processor   : Intel64 Family 6 Model 165 Stepping 2, GenuineIntel\n",
      "CPU cores   : 12\n",
      "Architecture: 64bit\n",
      "\n"
     ]
    }
   ],
   "source": [
    "%load_ext watermark\n",
    "%watermark"
   ]
  },
  {
   "attachments": {},
   "cell_type": "markdown",
   "metadata": {},
   "source": [
    "Importamos librerías"
   ]
  },
  {
   "cell_type": "code",
   "execution_count": 2,
   "metadata": {},
   "outputs": [],
   "source": [
    "import numpy as np\n",
    "import pandas as pd\n",
    "import matplotlib.pyplot as plt\n",
    "import time\n",
    "\n",
    "from sklearn.model_selection import train_test_split, GridSearchCV\n",
    "from sklearn.preprocessing import StandardScaler\n",
    "from sklearn.linear_model    import LinearRegression\n",
    "from sklearn.tree import DecisionTreeRegressor\n",
    "from sklearn.ensemble import RandomForestRegressor\n",
    "from sklearn.metrics         import mean_squared_error, make_scorer\n",
    "from sklearn.model_selection import cross_val_score\n",
    "\n",
    "from xgboost import XGBRegressor\n",
    "from lightgbm import LGBMRegressor\n",
    "from catboost import CatBoostRegressor\n",
    "\n",
    "%matplotlib inline"
   ]
  },
  {
   "attachments": {},
   "cell_type": "markdown",
   "metadata": {},
   "source": [
    "Cargamos y visualizamos los datos:"
   ]
  },
  {
   "cell_type": "code",
   "execution_count": 3,
   "metadata": {},
   "outputs": [],
   "source": [
    "# carga de datos\n",
    "try:\n",
    "    df = pd.read_csv('car_data.csv')\n",
    "except:\n",
    "    df = pd.read_csv('/datasets/car_data.csv')"
   ]
  },
  {
   "cell_type": "code",
   "execution_count": 4,
   "metadata": {},
   "outputs": [
    {
     "data": {
      "text/html": [
       "<div>\n",
       "<style scoped>\n",
       "    .dataframe tbody tr th:only-of-type {\n",
       "        vertical-align: middle;\n",
       "    }\n",
       "\n",
       "    .dataframe tbody tr th {\n",
       "        vertical-align: top;\n",
       "    }\n",
       "\n",
       "    .dataframe thead th {\n",
       "        text-align: right;\n",
       "    }\n",
       "</style>\n",
       "<table border=\"1\" class=\"dataframe\">\n",
       "  <thead>\n",
       "    <tr style=\"text-align: right;\">\n",
       "      <th></th>\n",
       "      <th>DateCrawled</th>\n",
       "      <th>Price</th>\n",
       "      <th>VehicleType</th>\n",
       "      <th>RegistrationYear</th>\n",
       "      <th>Gearbox</th>\n",
       "      <th>Power</th>\n",
       "      <th>Model</th>\n",
       "      <th>Mileage</th>\n",
       "      <th>RegistrationMonth</th>\n",
       "      <th>FuelType</th>\n",
       "      <th>Brand</th>\n",
       "      <th>NotRepaired</th>\n",
       "      <th>DateCreated</th>\n",
       "      <th>NumberOfPictures</th>\n",
       "      <th>PostalCode</th>\n",
       "      <th>LastSeen</th>\n",
       "    </tr>\n",
       "  </thead>\n",
       "  <tbody>\n",
       "    <tr>\n",
       "      <th>0</th>\n",
       "      <td>24/03/2016 11:52</td>\n",
       "      <td>480</td>\n",
       "      <td>NaN</td>\n",
       "      <td>1993</td>\n",
       "      <td>manual</td>\n",
       "      <td>0</td>\n",
       "      <td>golf</td>\n",
       "      <td>150000</td>\n",
       "      <td>0</td>\n",
       "      <td>petrol</td>\n",
       "      <td>volkswagen</td>\n",
       "      <td>NaN</td>\n",
       "      <td>24/03/2016 00:00</td>\n",
       "      <td>0</td>\n",
       "      <td>70435</td>\n",
       "      <td>07/04/2016 03:16</td>\n",
       "    </tr>\n",
       "    <tr>\n",
       "      <th>1</th>\n",
       "      <td>24/03/2016 10:58</td>\n",
       "      <td>18300</td>\n",
       "      <td>coupe</td>\n",
       "      <td>2011</td>\n",
       "      <td>manual</td>\n",
       "      <td>190</td>\n",
       "      <td>NaN</td>\n",
       "      <td>125000</td>\n",
       "      <td>5</td>\n",
       "      <td>gasoline</td>\n",
       "      <td>audi</td>\n",
       "      <td>yes</td>\n",
       "      <td>24/03/2016 00:00</td>\n",
       "      <td>0</td>\n",
       "      <td>66954</td>\n",
       "      <td>07/04/2016 01:46</td>\n",
       "    </tr>\n",
       "    <tr>\n",
       "      <th>2</th>\n",
       "      <td>14/03/2016 12:52</td>\n",
       "      <td>9800</td>\n",
       "      <td>suv</td>\n",
       "      <td>2004</td>\n",
       "      <td>auto</td>\n",
       "      <td>163</td>\n",
       "      <td>grand</td>\n",
       "      <td>125000</td>\n",
       "      <td>8</td>\n",
       "      <td>gasoline</td>\n",
       "      <td>jeep</td>\n",
       "      <td>NaN</td>\n",
       "      <td>14/03/2016 00:00</td>\n",
       "      <td>0</td>\n",
       "      <td>90480</td>\n",
       "      <td>05/04/2016 12:47</td>\n",
       "    </tr>\n",
       "    <tr>\n",
       "      <th>3</th>\n",
       "      <td>17/03/2016 16:54</td>\n",
       "      <td>1500</td>\n",
       "      <td>small</td>\n",
       "      <td>2001</td>\n",
       "      <td>manual</td>\n",
       "      <td>75</td>\n",
       "      <td>golf</td>\n",
       "      <td>150000</td>\n",
       "      <td>6</td>\n",
       "      <td>petrol</td>\n",
       "      <td>volkswagen</td>\n",
       "      <td>no</td>\n",
       "      <td>17/03/2016 00:00</td>\n",
       "      <td>0</td>\n",
       "      <td>91074</td>\n",
       "      <td>17/03/2016 17:40</td>\n",
       "    </tr>\n",
       "    <tr>\n",
       "      <th>4</th>\n",
       "      <td>31/03/2016 17:25</td>\n",
       "      <td>3600</td>\n",
       "      <td>small</td>\n",
       "      <td>2008</td>\n",
       "      <td>manual</td>\n",
       "      <td>69</td>\n",
       "      <td>fabia</td>\n",
       "      <td>90000</td>\n",
       "      <td>7</td>\n",
       "      <td>gasoline</td>\n",
       "      <td>skoda</td>\n",
       "      <td>no</td>\n",
       "      <td>31/03/2016 00:00</td>\n",
       "      <td>0</td>\n",
       "      <td>60437</td>\n",
       "      <td>06/04/2016 10:17</td>\n",
       "    </tr>\n",
       "  </tbody>\n",
       "</table>\n",
       "</div>"
      ],
      "text/plain": [
       "        DateCrawled  Price VehicleType  RegistrationYear Gearbox  Power   \n",
       "0  24/03/2016 11:52    480         NaN              1993  manual      0  \\\n",
       "1  24/03/2016 10:58  18300       coupe              2011  manual    190   \n",
       "2  14/03/2016 12:52   9800         suv              2004    auto    163   \n",
       "3  17/03/2016 16:54   1500       small              2001  manual     75   \n",
       "4  31/03/2016 17:25   3600       small              2008  manual     69   \n",
       "\n",
       "   Model  Mileage  RegistrationMonth  FuelType       Brand NotRepaired   \n",
       "0   golf   150000                  0    petrol  volkswagen         NaN  \\\n",
       "1    NaN   125000                  5  gasoline        audi         yes   \n",
       "2  grand   125000                  8  gasoline        jeep         NaN   \n",
       "3   golf   150000                  6    petrol  volkswagen          no   \n",
       "4  fabia    90000                  7  gasoline       skoda          no   \n",
       "\n",
       "        DateCreated  NumberOfPictures  PostalCode          LastSeen  \n",
       "0  24/03/2016 00:00                 0       70435  07/04/2016 03:16  \n",
       "1  24/03/2016 00:00                 0       66954  07/04/2016 01:46  \n",
       "2  14/03/2016 00:00                 0       90480  05/04/2016 12:47  \n",
       "3  17/03/2016 00:00                 0       91074  17/03/2016 17:40  \n",
       "4  31/03/2016 00:00                 0       60437  06/04/2016 10:17  "
      ]
     },
     "metadata": {},
     "output_type": "display_data"
    }
   ],
   "source": [
    "display(df.head())"
   ]
  },
  {
   "attachments": {},
   "cell_type": "markdown",
   "metadata": {},
   "source": [
    "El dataset contiene la siguiente información:\n",
    "\n",
    "**Características**\n",
    "- `DateCrawled` — fecha en la que se descargó el perfil de la base de datos\n",
    "- `VehicleType` — tipo de carrocería del vehículo\n",
    "- `RegistrationYear` — año de matriculación del vehículo\n",
    "- `Gearbox` — tipo de caja de cambios\n",
    "- `Power` — potencia (CV)\n",
    "- `Model` — modelo del vehículo\n",
    "- `Mileage` — kilometraje (medido en km de acuerdo con las especificidades regionales del conjunto de datos)\n",
    "- `RegistrationMonth` — mes de matriculación del vehículo\n",
    "- `FuelType` — tipo de combustible\n",
    "- `Brand` — marca del vehículo\n",
    "- `NotRepaired` — vehículo con o sin reparación\n",
    "- `DateCreated` — fecha de creación del perfil\n",
    "- `NumberOfPictures` — número de fotos del vehículo\n",
    "- `PostalCode` — código postal del propietario del perfil (usuario)\n",
    "- `LastSeen` — fecha de la última vez que el usuario estuvo activo\n",
    "\n",
    "**Objetivo**\n",
    "- `Price` — precio (en euros)"
   ]
  },
  {
   "attachments": {},
   "cell_type": "markdown",
   "metadata": {},
   "source": [
    "Revisemos de nuestros datos el tamaño del dataset, tipos de datos y conteo de registros por columna:"
   ]
  },
  {
   "cell_type": "code",
   "execution_count": 5,
   "metadata": {},
   "outputs": [
    {
     "name": "stdout",
     "output_type": "stream",
     "text": [
      "<class 'pandas.core.frame.DataFrame'>\n",
      "RangeIndex: 354369 entries, 0 to 354368\n",
      "Data columns (total 16 columns):\n",
      " #   Column             Non-Null Count   Dtype \n",
      "---  ------             --------------   ----- \n",
      " 0   DateCrawled        354369 non-null  object\n",
      " 1   Price              354369 non-null  int64 \n",
      " 2   VehicleType        316879 non-null  object\n",
      " 3   RegistrationYear   354369 non-null  int64 \n",
      " 4   Gearbox            334536 non-null  object\n",
      " 5   Power              354369 non-null  int64 \n",
      " 6   Model              334664 non-null  object\n",
      " 7   Mileage            354369 non-null  int64 \n",
      " 8   RegistrationMonth  354369 non-null  int64 \n",
      " 9   FuelType           321474 non-null  object\n",
      " 10  Brand              354369 non-null  object\n",
      " 11  NotRepaired        283215 non-null  object\n",
      " 12  DateCreated        354369 non-null  object\n",
      " 13  NumberOfPictures   354369 non-null  int64 \n",
      " 14  PostalCode         354369 non-null  int64 \n",
      " 15  LastSeen           354369 non-null  object\n",
      "dtypes: int64(7), object(9)\n",
      "memory usage: 43.3+ MB\n"
     ]
    }
   ],
   "source": [
    "df.info()"
   ]
  },
  {
   "attachments": {},
   "cell_type": "markdown",
   "metadata": {},
   "source": [
    "Tenemos un dataset con un tamaño inicial de 354.369 registros y 16 columnas. Observamos en el conteo de registros por columnas que tenemos ausencia de datos en 5 columnas que se deberán abordar más adelante. También tipos de datos que debemos cambiar."
   ]
  },
  {
   "attachments": {},
   "cell_type": "markdown",
   "metadata": {},
   "source": [
    "Renombramos las columnas de acuerdo a la convención *snake_case*:"
   ]
  },
  {
   "cell_type": "code",
   "execution_count": 6,
   "metadata": {},
   "outputs": [],
   "source": [
    "df = df.rename(columns={'DateCrawled':'date_crawled', \n",
    "                        'Price':'price', \n",
    "                        'VehicleType':'vehicle_type', \n",
    "                        'RegistrationYear':'registration_year', \n",
    "                        'Gearbox':'gearbox',\n",
    "                        'Power':'power', \n",
    "                        'Model':'model', \n",
    "                        'Mileage':'mileage', \n",
    "                        'RegistrationMonth':'registration_month', \n",
    "                        'FuelType': 'fuel_type', \n",
    "                        'Brand':'brand',\n",
    "                        'NotRepaired':'not_repaired', \n",
    "                        'DateCreated':'date_created', \n",
    "                        'NumberOfPictures':'number_of_pictures', \n",
    "                        'PostalCode':'postal_code',\n",
    "                        'LastSeen':'last_seen'\n",
    "                        }\n",
    "                )"
   ]
  },
  {
   "cell_type": "code",
   "execution_count": 7,
   "metadata": {},
   "outputs": [
    {
     "data": {
      "text/html": [
       "<div>\n",
       "<style scoped>\n",
       "    .dataframe tbody tr th:only-of-type {\n",
       "        vertical-align: middle;\n",
       "    }\n",
       "\n",
       "    .dataframe tbody tr th {\n",
       "        vertical-align: top;\n",
       "    }\n",
       "\n",
       "    .dataframe thead th {\n",
       "        text-align: right;\n",
       "    }\n",
       "</style>\n",
       "<table border=\"1\" class=\"dataframe\">\n",
       "  <thead>\n",
       "    <tr style=\"text-align: right;\">\n",
       "      <th></th>\n",
       "      <th>date_crawled</th>\n",
       "      <th>price</th>\n",
       "      <th>vehicle_type</th>\n",
       "      <th>registration_year</th>\n",
       "      <th>gearbox</th>\n",
       "      <th>power</th>\n",
       "      <th>model</th>\n",
       "      <th>mileage</th>\n",
       "      <th>registration_month</th>\n",
       "      <th>fuel_type</th>\n",
       "      <th>brand</th>\n",
       "      <th>not_repaired</th>\n",
       "      <th>date_created</th>\n",
       "      <th>number_of_pictures</th>\n",
       "      <th>postal_code</th>\n",
       "      <th>last_seen</th>\n",
       "    </tr>\n",
       "  </thead>\n",
       "  <tbody>\n",
       "    <tr>\n",
       "      <th>0</th>\n",
       "      <td>24/03/2016 11:52</td>\n",
       "      <td>480</td>\n",
       "      <td>NaN</td>\n",
       "      <td>1993</td>\n",
       "      <td>manual</td>\n",
       "      <td>0</td>\n",
       "      <td>golf</td>\n",
       "      <td>150000</td>\n",
       "      <td>0</td>\n",
       "      <td>petrol</td>\n",
       "      <td>volkswagen</td>\n",
       "      <td>NaN</td>\n",
       "      <td>24/03/2016 00:00</td>\n",
       "      <td>0</td>\n",
       "      <td>70435</td>\n",
       "      <td>07/04/2016 03:16</td>\n",
       "    </tr>\n",
       "    <tr>\n",
       "      <th>1</th>\n",
       "      <td>24/03/2016 10:58</td>\n",
       "      <td>18300</td>\n",
       "      <td>coupe</td>\n",
       "      <td>2011</td>\n",
       "      <td>manual</td>\n",
       "      <td>190</td>\n",
       "      <td>NaN</td>\n",
       "      <td>125000</td>\n",
       "      <td>5</td>\n",
       "      <td>gasoline</td>\n",
       "      <td>audi</td>\n",
       "      <td>yes</td>\n",
       "      <td>24/03/2016 00:00</td>\n",
       "      <td>0</td>\n",
       "      <td>66954</td>\n",
       "      <td>07/04/2016 01:46</td>\n",
       "    </tr>\n",
       "    <tr>\n",
       "      <th>2</th>\n",
       "      <td>14/03/2016 12:52</td>\n",
       "      <td>9800</td>\n",
       "      <td>suv</td>\n",
       "      <td>2004</td>\n",
       "      <td>auto</td>\n",
       "      <td>163</td>\n",
       "      <td>grand</td>\n",
       "      <td>125000</td>\n",
       "      <td>8</td>\n",
       "      <td>gasoline</td>\n",
       "      <td>jeep</td>\n",
       "      <td>NaN</td>\n",
       "      <td>14/03/2016 00:00</td>\n",
       "      <td>0</td>\n",
       "      <td>90480</td>\n",
       "      <td>05/04/2016 12:47</td>\n",
       "    </tr>\n",
       "    <tr>\n",
       "      <th>3</th>\n",
       "      <td>17/03/2016 16:54</td>\n",
       "      <td>1500</td>\n",
       "      <td>small</td>\n",
       "      <td>2001</td>\n",
       "      <td>manual</td>\n",
       "      <td>75</td>\n",
       "      <td>golf</td>\n",
       "      <td>150000</td>\n",
       "      <td>6</td>\n",
       "      <td>petrol</td>\n",
       "      <td>volkswagen</td>\n",
       "      <td>no</td>\n",
       "      <td>17/03/2016 00:00</td>\n",
       "      <td>0</td>\n",
       "      <td>91074</td>\n",
       "      <td>17/03/2016 17:40</td>\n",
       "    </tr>\n",
       "    <tr>\n",
       "      <th>4</th>\n",
       "      <td>31/03/2016 17:25</td>\n",
       "      <td>3600</td>\n",
       "      <td>small</td>\n",
       "      <td>2008</td>\n",
       "      <td>manual</td>\n",
       "      <td>69</td>\n",
       "      <td>fabia</td>\n",
       "      <td>90000</td>\n",
       "      <td>7</td>\n",
       "      <td>gasoline</td>\n",
       "      <td>skoda</td>\n",
       "      <td>no</td>\n",
       "      <td>31/03/2016 00:00</td>\n",
       "      <td>0</td>\n",
       "      <td>60437</td>\n",
       "      <td>06/04/2016 10:17</td>\n",
       "    </tr>\n",
       "  </tbody>\n",
       "</table>\n",
       "</div>"
      ],
      "text/plain": [
       "       date_crawled  price vehicle_type  registration_year gearbox  power   \n",
       "0  24/03/2016 11:52    480          NaN               1993  manual      0  \\\n",
       "1  24/03/2016 10:58  18300        coupe               2011  manual    190   \n",
       "2  14/03/2016 12:52   9800          suv               2004    auto    163   \n",
       "3  17/03/2016 16:54   1500        small               2001  manual     75   \n",
       "4  31/03/2016 17:25   3600        small               2008  manual     69   \n",
       "\n",
       "   model  mileage  registration_month fuel_type       brand not_repaired   \n",
       "0   golf   150000                   0    petrol  volkswagen          NaN  \\\n",
       "1    NaN   125000                   5  gasoline        audi          yes   \n",
       "2  grand   125000                   8  gasoline        jeep          NaN   \n",
       "3   golf   150000                   6    petrol  volkswagen           no   \n",
       "4  fabia    90000                   7  gasoline       skoda           no   \n",
       "\n",
       "       date_created  number_of_pictures  postal_code         last_seen  \n",
       "0  24/03/2016 00:00                   0        70435  07/04/2016 03:16  \n",
       "1  24/03/2016 00:00                   0        66954  07/04/2016 01:46  \n",
       "2  14/03/2016 00:00                   0        90480  05/04/2016 12:47  \n",
       "3  17/03/2016 00:00                   0        91074  17/03/2016 17:40  \n",
       "4  31/03/2016 00:00                   0        60437  06/04/2016 10:17  "
      ]
     },
     "execution_count": 7,
     "metadata": {},
     "output_type": "execute_result"
    }
   ],
   "source": [
    "df.head()"
   ]
  },
  {
   "attachments": {},
   "cell_type": "markdown",
   "metadata": {},
   "source": [
    "Eliminamos registros duplicados:"
   ]
  },
  {
   "cell_type": "code",
   "execution_count": 8,
   "metadata": {},
   "outputs": [
    {
     "data": {
      "text/plain": [
       "262"
      ]
     },
     "execution_count": 8,
     "metadata": {},
     "output_type": "execute_result"
    }
   ],
   "source": [
    "df.duplicated().sum()"
   ]
  },
  {
   "cell_type": "code",
   "execution_count": 9,
   "metadata": {},
   "outputs": [
    {
     "data": {
      "text/plain": [
       "0.0007393423239617461"
      ]
     },
     "execution_count": 9,
     "metadata": {},
     "output_type": "execute_result"
    }
   ],
   "source": [
    "df.duplicated().sum() / len(df)"
   ]
  },
  {
   "cell_type": "code",
   "execution_count": 10,
   "metadata": {},
   "outputs": [],
   "source": [
    "df = df.drop_duplicates().reset_index(drop=True)"
   ]
  },
  {
   "cell_type": "code",
   "execution_count": 11,
   "metadata": {},
   "outputs": [
    {
     "data": {
      "text/plain": [
       "(354107, 16)"
      ]
     },
     "execution_count": 11,
     "metadata": {},
     "output_type": "execute_result"
    }
   ],
   "source": [
    "df.shape"
   ]
  },
  {
   "attachments": {},
   "cell_type": "markdown",
   "metadata": {},
   "source": [
    "Cambiamos tipos de datos de columnas:"
   ]
  },
  {
   "cell_type": "code",
   "execution_count": 12,
   "metadata": {},
   "outputs": [],
   "source": [
    "df['date_crawled'] = pd.to_datetime(df['date_crawled'], format='%d/%m/%Y %H:%M')\n",
    "df['date_created'] = pd.to_datetime(df['date_created'], format='%d/%m/%Y %H:%M')\n",
    "df['last_seen'] = pd.to_datetime(df['last_seen'], format='%d/%m/%Y %H:%M')"
   ]
  },
  {
   "cell_type": "code",
   "execution_count": 13,
   "metadata": {},
   "outputs": [
    {
     "name": "stdout",
     "output_type": "stream",
     "text": [
      "<class 'pandas.core.frame.DataFrame'>\n",
      "RangeIndex: 354107 entries, 0 to 354106\n",
      "Data columns (total 16 columns):\n",
      " #   Column              Non-Null Count   Dtype         \n",
      "---  ------              --------------   -----         \n",
      " 0   date_crawled        354107 non-null  datetime64[ns]\n",
      " 1   price               354107 non-null  int64         \n",
      " 2   vehicle_type        316623 non-null  object        \n",
      " 3   registration_year   354107 non-null  int64         \n",
      " 4   gearbox             334277 non-null  object        \n",
      " 5   power               354107 non-null  int64         \n",
      " 6   model               334406 non-null  object        \n",
      " 7   mileage             354107 non-null  int64         \n",
      " 8   registration_month  354107 non-null  int64         \n",
      " 9   fuel_type           321218 non-null  object        \n",
      " 10  brand               354107 non-null  object        \n",
      " 11  not_repaired        282962 non-null  object        \n",
      " 12  date_created        354107 non-null  datetime64[ns]\n",
      " 13  number_of_pictures  354107 non-null  int64         \n",
      " 14  postal_code         354107 non-null  int64         \n",
      " 15  last_seen           354107 non-null  datetime64[ns]\n",
      "dtypes: datetime64[ns](3), int64(7), object(6)\n",
      "memory usage: 43.2+ MB\n"
     ]
    }
   ],
   "source": [
    "df.info()"
   ]
  },
  {
   "attachments": {},
   "cell_type": "markdown",
   "metadata": {},
   "source": [
    "Revisemos estadísticas descriptivas por columna:"
   ]
  },
  {
   "cell_type": "code",
   "execution_count": 14,
   "metadata": {},
   "outputs": [
    {
     "data": {
      "text/html": [
       "<div>\n",
       "<style scoped>\n",
       "    .dataframe tbody tr th:only-of-type {\n",
       "        vertical-align: middle;\n",
       "    }\n",
       "\n",
       "    .dataframe tbody tr th {\n",
       "        vertical-align: top;\n",
       "    }\n",
       "\n",
       "    .dataframe thead th {\n",
       "        text-align: right;\n",
       "    }\n",
       "</style>\n",
       "<table border=\"1\" class=\"dataframe\">\n",
       "  <thead>\n",
       "    <tr style=\"text-align: right;\">\n",
       "      <th></th>\n",
       "      <th>date_crawled</th>\n",
       "      <th>price</th>\n",
       "      <th>registration_year</th>\n",
       "      <th>power</th>\n",
       "      <th>mileage</th>\n",
       "      <th>registration_month</th>\n",
       "      <th>date_created</th>\n",
       "      <th>number_of_pictures</th>\n",
       "      <th>postal_code</th>\n",
       "      <th>last_seen</th>\n",
       "    </tr>\n",
       "  </thead>\n",
       "  <tbody>\n",
       "    <tr>\n",
       "      <th>count</th>\n",
       "      <td>354107</td>\n",
       "      <td>354107.000000</td>\n",
       "      <td>354107.000000</td>\n",
       "      <td>354107.000000</td>\n",
       "      <td>354107.000000</td>\n",
       "      <td>354107.000000</td>\n",
       "      <td>354107</td>\n",
       "      <td>354107.0</td>\n",
       "      <td>354107.000000</td>\n",
       "      <td>354107</td>\n",
       "    </tr>\n",
       "    <tr>\n",
       "      <th>mean</th>\n",
       "      <td>2016-03-21 12:56:48.735947008</td>\n",
       "      <td>4416.433287</td>\n",
       "      <td>2004.235355</td>\n",
       "      <td>110.089651</td>\n",
       "      <td>128211.811684</td>\n",
       "      <td>5.714182</td>\n",
       "      <td>2016-03-20 19:11:13.738728960</td>\n",
       "      <td>0.0</td>\n",
       "      <td>50507.145030</td>\n",
       "      <td>2016-03-29 23:51:12.374903808</td>\n",
       "    </tr>\n",
       "    <tr>\n",
       "      <th>min</th>\n",
       "      <td>2016-03-05 14:06:00</td>\n",
       "      <td>0.000000</td>\n",
       "      <td>1000.000000</td>\n",
       "      <td>0.000000</td>\n",
       "      <td>5000.000000</td>\n",
       "      <td>0.000000</td>\n",
       "      <td>2014-03-10 00:00:00</td>\n",
       "      <td>0.0</td>\n",
       "      <td>1067.000000</td>\n",
       "      <td>2016-03-05 14:15:00</td>\n",
       "    </tr>\n",
       "    <tr>\n",
       "      <th>25%</th>\n",
       "      <td>2016-03-13 11:52:00</td>\n",
       "      <td>1050.000000</td>\n",
       "      <td>1999.000000</td>\n",
       "      <td>69.000000</td>\n",
       "      <td>125000.000000</td>\n",
       "      <td>3.000000</td>\n",
       "      <td>2016-03-13 00:00:00</td>\n",
       "      <td>0.0</td>\n",
       "      <td>30165.000000</td>\n",
       "      <td>2016-03-23 02:50:00</td>\n",
       "    </tr>\n",
       "    <tr>\n",
       "      <th>50%</th>\n",
       "      <td>2016-03-21 17:50:00</td>\n",
       "      <td>2700.000000</td>\n",
       "      <td>2003.000000</td>\n",
       "      <td>105.000000</td>\n",
       "      <td>150000.000000</td>\n",
       "      <td>6.000000</td>\n",
       "      <td>2016-03-21 00:00:00</td>\n",
       "      <td>0.0</td>\n",
       "      <td>49406.000000</td>\n",
       "      <td>2016-04-03 15:15:00</td>\n",
       "    </tr>\n",
       "    <tr>\n",
       "      <th>75%</th>\n",
       "      <td>2016-03-29 14:36:00</td>\n",
       "      <td>6400.000000</td>\n",
       "      <td>2008.000000</td>\n",
       "      <td>143.000000</td>\n",
       "      <td>150000.000000</td>\n",
       "      <td>9.000000</td>\n",
       "      <td>2016-03-29 00:00:00</td>\n",
       "      <td>0.0</td>\n",
       "      <td>71083.000000</td>\n",
       "      <td>2016-04-06 10:06:00</td>\n",
       "    </tr>\n",
       "    <tr>\n",
       "      <th>max</th>\n",
       "      <td>2016-04-07 14:36:00</td>\n",
       "      <td>20000.000000</td>\n",
       "      <td>9999.000000</td>\n",
       "      <td>20000.000000</td>\n",
       "      <td>150000.000000</td>\n",
       "      <td>12.000000</td>\n",
       "      <td>2016-04-07 00:00:00</td>\n",
       "      <td>0.0</td>\n",
       "      <td>99998.000000</td>\n",
       "      <td>2016-04-07 14:58:00</td>\n",
       "    </tr>\n",
       "    <tr>\n",
       "      <th>std</th>\n",
       "      <td>NaN</td>\n",
       "      <td>4514.338584</td>\n",
       "      <td>90.261168</td>\n",
       "      <td>189.914972</td>\n",
       "      <td>37906.590101</td>\n",
       "      <td>3.726682</td>\n",
       "      <td>NaN</td>\n",
       "      <td>0.0</td>\n",
       "      <td>25784.212094</td>\n",
       "      <td>NaN</td>\n",
       "    </tr>\n",
       "  </tbody>\n",
       "</table>\n",
       "</div>"
      ],
      "text/plain": [
       "                        date_crawled          price  registration_year   \n",
       "count                         354107  354107.000000      354107.000000  \\\n",
       "mean   2016-03-21 12:56:48.735947008    4416.433287        2004.235355   \n",
       "min              2016-03-05 14:06:00       0.000000        1000.000000   \n",
       "25%              2016-03-13 11:52:00    1050.000000        1999.000000   \n",
       "50%              2016-03-21 17:50:00    2700.000000        2003.000000   \n",
       "75%              2016-03-29 14:36:00    6400.000000        2008.000000   \n",
       "max              2016-04-07 14:36:00   20000.000000        9999.000000   \n",
       "std                              NaN    4514.338584          90.261168   \n",
       "\n",
       "               power        mileage  registration_month   \n",
       "count  354107.000000  354107.000000       354107.000000  \\\n",
       "mean      110.089651  128211.811684            5.714182   \n",
       "min         0.000000    5000.000000            0.000000   \n",
       "25%        69.000000  125000.000000            3.000000   \n",
       "50%       105.000000  150000.000000            6.000000   \n",
       "75%       143.000000  150000.000000            9.000000   \n",
       "max     20000.000000  150000.000000           12.000000   \n",
       "std       189.914972   37906.590101            3.726682   \n",
       "\n",
       "                        date_created  number_of_pictures    postal_code   \n",
       "count                         354107            354107.0  354107.000000  \\\n",
       "mean   2016-03-20 19:11:13.738728960                 0.0   50507.145030   \n",
       "min              2014-03-10 00:00:00                 0.0    1067.000000   \n",
       "25%              2016-03-13 00:00:00                 0.0   30165.000000   \n",
       "50%              2016-03-21 00:00:00                 0.0   49406.000000   \n",
       "75%              2016-03-29 00:00:00                 0.0   71083.000000   \n",
       "max              2016-04-07 00:00:00                 0.0   99998.000000   \n",
       "std                              NaN                 0.0   25784.212094   \n",
       "\n",
       "                           last_seen  \n",
       "count                         354107  \n",
       "mean   2016-03-29 23:51:12.374903808  \n",
       "min              2016-03-05 14:15:00  \n",
       "25%              2016-03-23 02:50:00  \n",
       "50%              2016-04-03 15:15:00  \n",
       "75%              2016-04-06 10:06:00  \n",
       "max              2016-04-07 14:58:00  \n",
       "std                              NaN  "
      ]
     },
     "execution_count": 14,
     "metadata": {},
     "output_type": "execute_result"
    }
   ],
   "source": [
    "df.describe()"
   ]
  },
  {
   "cell_type": "code",
   "execution_count": 15,
   "metadata": {},
   "outputs": [
    {
     "data": {
      "text/html": [
       "<div>\n",
       "<style scoped>\n",
       "    .dataframe tbody tr th:only-of-type {\n",
       "        vertical-align: middle;\n",
       "    }\n",
       "\n",
       "    .dataframe tbody tr th {\n",
       "        vertical-align: top;\n",
       "    }\n",
       "\n",
       "    .dataframe thead th {\n",
       "        text-align: right;\n",
       "    }\n",
       "</style>\n",
       "<table border=\"1\" class=\"dataframe\">\n",
       "  <thead>\n",
       "    <tr style=\"text-align: right;\">\n",
       "      <th></th>\n",
       "      <th>vehicle_type</th>\n",
       "      <th>gearbox</th>\n",
       "      <th>model</th>\n",
       "      <th>fuel_type</th>\n",
       "      <th>brand</th>\n",
       "      <th>not_repaired</th>\n",
       "    </tr>\n",
       "  </thead>\n",
       "  <tbody>\n",
       "    <tr>\n",
       "      <th>count</th>\n",
       "      <td>316623</td>\n",
       "      <td>334277</td>\n",
       "      <td>334406</td>\n",
       "      <td>321218</td>\n",
       "      <td>354107</td>\n",
       "      <td>282962</td>\n",
       "    </tr>\n",
       "    <tr>\n",
       "      <th>unique</th>\n",
       "      <td>8</td>\n",
       "      <td>2</td>\n",
       "      <td>250</td>\n",
       "      <td>7</td>\n",
       "      <td>40</td>\n",
       "      <td>2</td>\n",
       "    </tr>\n",
       "    <tr>\n",
       "      <th>top</th>\n",
       "      <td>sedan</td>\n",
       "      <td>manual</td>\n",
       "      <td>golf</td>\n",
       "      <td>petrol</td>\n",
       "      <td>volkswagen</td>\n",
       "      <td>no</td>\n",
       "    </tr>\n",
       "    <tr>\n",
       "      <th>freq</th>\n",
       "      <td>91399</td>\n",
       "      <td>268034</td>\n",
       "      <td>29215</td>\n",
       "      <td>216161</td>\n",
       "      <td>76960</td>\n",
       "      <td>246927</td>\n",
       "    </tr>\n",
       "  </tbody>\n",
       "</table>\n",
       "</div>"
      ],
      "text/plain": [
       "       vehicle_type gearbox   model fuel_type       brand not_repaired\n",
       "count        316623  334277  334406    321218      354107       282962\n",
       "unique            8       2     250         7          40            2\n",
       "top           sedan  manual    golf    petrol  volkswagen           no\n",
       "freq          91399  268034   29215    216161       76960       246927"
      ]
     },
     "execution_count": 15,
     "metadata": {},
     "output_type": "execute_result"
    }
   ],
   "source": [
    "df[['vehicle_type', 'gearbox','model', 'fuel_type', 'brand','not_repaired']].describe()"
   ]
  },
  {
   "attachments": {},
   "cell_type": "markdown",
   "metadata": {},
   "source": [
    "Con las estadísticas por columnas podemos revisar rápidamente como están nuestros datos. \n",
    "- `number_of_pictures` contiene solo valores cero, esta información no aporta nada, por lo que es una columna que podemos eliminar.\n",
    "- `price` medio de los vehículos es de 4.416 euros. Desde valores en 0 hasta 20.0000.\n",
    "- `mileage` medio de los vehículos es de 128.211 Km.\n",
    "- `vehicle_type` 8 categorías, el más popular el sedan.\n",
    "- `gearbox` 2 categorias, el más popular el manual.\n",
    "- `fueltype` 7 categorias, el más popular el petrol.\n",
    "- `brand` 40 categorías, la más popular volkswagen.\n",
    "- `notrepaired` el mas popular no.\n",
    "- revisaremos las columnas de fechas dejando lo necesario."
   ]
  },
  {
   "attachments": {},
   "cell_type": "markdown",
   "metadata": {},
   "source": [
    "Eliminamos columnas innecesarias:"
   ]
  },
  {
   "attachments": {},
   "cell_type": "markdown",
   "metadata": {},
   "source": [
    "Revisaremos primero cuales son las columnas a eliminar, realizaremos lo siguiente:\n",
    "-  Comprobaremos si las columnas `date_crawled` y `date_created` tienen las mismas fechas, de ser cierto, eliminaremos `date_crawled` y nos quedaremos con `date_created`.\n",
    "-  La columna `registration_month` nos da el mes de matriculación, información que consideramos irrelevante para este trabajo, por lo que se eliminará.\n",
    "-  La columna `number_of_pictures` vimos que teniamos solo ceros, por lo que se eliminará también.\n",
    "-  La columna `last_seen` tiene información que consideramos irrelevante, por lo que la eliminaremos.\n",
    "-  La columna `postal_code` también la eliminaremos, ya que sin tener información sobre el pais de donde son los vehículos, no servirá de mucho."
   ]
  },
  {
   "cell_type": "code",
   "execution_count": 16,
   "metadata": {},
   "outputs": [
    {
     "data": {
      "text/plain": [
       "(354107, 354107)"
      ]
     },
     "execution_count": 16,
     "metadata": {},
     "output_type": "execute_result"
    }
   ],
   "source": [
    "len(df.date_crawled.dt.date == df.date_created), len(df)"
   ]
  },
  {
   "cell_type": "code",
   "execution_count": 17,
   "metadata": {},
   "outputs": [
    {
     "data": {
      "text/plain": [
       "number_of_pictures\n",
       "0    354107\n",
       "Name: count, dtype: int64"
      ]
     },
     "execution_count": 17,
     "metadata": {},
     "output_type": "execute_result"
    }
   ],
   "source": [
    "df.number_of_pictures.value_counts()"
   ]
  },
  {
   "cell_type": "code",
   "execution_count": 18,
   "metadata": {},
   "outputs": [],
   "source": [
    "df.drop(['date_crawled', 'registration_month', 'number_of_pictures', 'last_seen', 'postal_code'], axis=1, inplace=True)"
   ]
  },
  {
   "cell_type": "code",
   "execution_count": 19,
   "metadata": {},
   "outputs": [
    {
     "data": {
      "text/plain": [
       "(354107, 11)"
      ]
     },
     "execution_count": 19,
     "metadata": {},
     "output_type": "execute_result"
    }
   ],
   "source": [
    "df.shape"
   ]
  },
  {
   "cell_type": "code",
   "execution_count": 20,
   "metadata": {},
   "outputs": [
    {
     "data": {
      "text/html": [
       "<div>\n",
       "<style scoped>\n",
       "    .dataframe tbody tr th:only-of-type {\n",
       "        vertical-align: middle;\n",
       "    }\n",
       "\n",
       "    .dataframe tbody tr th {\n",
       "        vertical-align: top;\n",
       "    }\n",
       "\n",
       "    .dataframe thead th {\n",
       "        text-align: right;\n",
       "    }\n",
       "</style>\n",
       "<table border=\"1\" class=\"dataframe\">\n",
       "  <thead>\n",
       "    <tr style=\"text-align: right;\">\n",
       "      <th></th>\n",
       "      <th>price</th>\n",
       "      <th>vehicle_type</th>\n",
       "      <th>registration_year</th>\n",
       "      <th>gearbox</th>\n",
       "      <th>power</th>\n",
       "      <th>model</th>\n",
       "      <th>mileage</th>\n",
       "      <th>fuel_type</th>\n",
       "      <th>brand</th>\n",
       "      <th>not_repaired</th>\n",
       "      <th>date_created</th>\n",
       "    </tr>\n",
       "  </thead>\n",
       "  <tbody>\n",
       "    <tr>\n",
       "      <th>0</th>\n",
       "      <td>480</td>\n",
       "      <td>NaN</td>\n",
       "      <td>1993</td>\n",
       "      <td>manual</td>\n",
       "      <td>0</td>\n",
       "      <td>golf</td>\n",
       "      <td>150000</td>\n",
       "      <td>petrol</td>\n",
       "      <td>volkswagen</td>\n",
       "      <td>NaN</td>\n",
       "      <td>2016-03-24</td>\n",
       "    </tr>\n",
       "    <tr>\n",
       "      <th>1</th>\n",
       "      <td>18300</td>\n",
       "      <td>coupe</td>\n",
       "      <td>2011</td>\n",
       "      <td>manual</td>\n",
       "      <td>190</td>\n",
       "      <td>NaN</td>\n",
       "      <td>125000</td>\n",
       "      <td>gasoline</td>\n",
       "      <td>audi</td>\n",
       "      <td>yes</td>\n",
       "      <td>2016-03-24</td>\n",
       "    </tr>\n",
       "    <tr>\n",
       "      <th>2</th>\n",
       "      <td>9800</td>\n",
       "      <td>suv</td>\n",
       "      <td>2004</td>\n",
       "      <td>auto</td>\n",
       "      <td>163</td>\n",
       "      <td>grand</td>\n",
       "      <td>125000</td>\n",
       "      <td>gasoline</td>\n",
       "      <td>jeep</td>\n",
       "      <td>NaN</td>\n",
       "      <td>2016-03-14</td>\n",
       "    </tr>\n",
       "    <tr>\n",
       "      <th>3</th>\n",
       "      <td>1500</td>\n",
       "      <td>small</td>\n",
       "      <td>2001</td>\n",
       "      <td>manual</td>\n",
       "      <td>75</td>\n",
       "      <td>golf</td>\n",
       "      <td>150000</td>\n",
       "      <td>petrol</td>\n",
       "      <td>volkswagen</td>\n",
       "      <td>no</td>\n",
       "      <td>2016-03-17</td>\n",
       "    </tr>\n",
       "    <tr>\n",
       "      <th>4</th>\n",
       "      <td>3600</td>\n",
       "      <td>small</td>\n",
       "      <td>2008</td>\n",
       "      <td>manual</td>\n",
       "      <td>69</td>\n",
       "      <td>fabia</td>\n",
       "      <td>90000</td>\n",
       "      <td>gasoline</td>\n",
       "      <td>skoda</td>\n",
       "      <td>no</td>\n",
       "      <td>2016-03-31</td>\n",
       "    </tr>\n",
       "  </tbody>\n",
       "</table>\n",
       "</div>"
      ],
      "text/plain": [
       "   price vehicle_type  registration_year gearbox  power  model  mileage   \n",
       "0    480          NaN               1993  manual      0   golf   150000  \\\n",
       "1  18300        coupe               2011  manual    190    NaN   125000   \n",
       "2   9800          suv               2004    auto    163  grand   125000   \n",
       "3   1500        small               2001  manual     75   golf   150000   \n",
       "4   3600        small               2008  manual     69  fabia    90000   \n",
       "\n",
       "  fuel_type       brand not_repaired date_created  \n",
       "0    petrol  volkswagen          NaN   2016-03-24  \n",
       "1  gasoline        audi          yes   2016-03-24  \n",
       "2  gasoline        jeep          NaN   2016-03-14  \n",
       "3    petrol  volkswagen           no   2016-03-17  \n",
       "4  gasoline       skoda           no   2016-03-31  "
      ]
     },
     "execution_count": 20,
     "metadata": {},
     "output_type": "execute_result"
    }
   ],
   "source": [
    "df.head()"
   ]
  },
  {
   "attachments": {},
   "cell_type": "markdown",
   "metadata": {},
   "source": [
    "## Tratamiento de valores ausentes\n",
    "\n",
    "Revisemos valores ausentes por columna:"
   ]
  },
  {
   "cell_type": "code",
   "execution_count": 21,
   "metadata": {},
   "outputs": [
    {
     "name": "stdout",
     "output_type": "stream",
     "text": [
      "NaN per columns\n",
      "price                0.00\n",
      "vehicle_type         0.11\n",
      "registration_year    0.00\n",
      "gearbox              0.06\n",
      "power                0.00\n",
      "model                0.06\n",
      "mileage              0.00\n",
      "fuel_type            0.09\n",
      "brand                0.00\n",
      "not_repaired         0.20\n",
      "date_created         0.00\n",
      "dtype: float64\n"
     ]
    }
   ],
   "source": [
    "print('NaN per columns')\n",
    "print(round(df.isna().sum() / len(df),2))"
   ]
  },
  {
   "cell_type": "code",
   "execution_count": 22,
   "metadata": {},
   "outputs": [
    {
     "data": {
      "text/plain": [
       "vehicle_type\n",
       "sedan          0.26\n",
       "small          0.23\n",
       "wagon          0.18\n",
       "NaN            0.11\n",
       "bus            0.08\n",
       "convertible    0.06\n",
       "coupe          0.05\n",
       "suv            0.03\n",
       "other          0.01\n",
       "Name: proportion, dtype: float64"
      ]
     },
     "metadata": {},
     "output_type": "display_data"
    },
    {
     "name": "stdout",
     "output_type": "stream",
     "text": [
      "- - - - - - - - - - - - - - \n"
     ]
    },
    {
     "data": {
      "text/plain": [
       "gearbox\n",
       "manual    0.76\n",
       "auto      0.19\n",
       "NaN       0.06\n",
       "Name: proportion, dtype: float64"
      ]
     },
     "metadata": {},
     "output_type": "display_data"
    },
    {
     "name": "stdout",
     "output_type": "stream",
     "text": [
      "- - - - - - - - - - - - - - \n"
     ]
    },
    {
     "data": {
      "text/plain": [
       "model\n",
       "golf                  0.08\n",
       "other                 0.07\n",
       "3er                   0.06\n",
       "NaN                   0.06\n",
       "polo                  0.04\n",
       "                      ... \n",
       "i3                    0.00\n",
       "serie_3               0.00\n",
       "rangerover            0.00\n",
       "range_rover_evoque    0.00\n",
       "serie_1               0.00\n",
       "Name: proportion, Length: 251, dtype: float64"
      ]
     },
     "metadata": {},
     "output_type": "display_data"
    },
    {
     "name": "stdout",
     "output_type": "stream",
     "text": [
      "- - - - - - - - - - - - - - \n"
     ]
    },
    {
     "data": {
      "text/plain": [
       "fuel_type\n",
       "petrol      0.61\n",
       "gasoline    0.28\n",
       "NaN         0.09\n",
       "lpg         0.01\n",
       "cng         0.00\n",
       "hybrid      0.00\n",
       "other       0.00\n",
       "electric    0.00\n",
       "Name: proportion, dtype: float64"
      ]
     },
     "metadata": {},
     "output_type": "display_data"
    },
    {
     "name": "stdout",
     "output_type": "stream",
     "text": [
      "- - - - - - - - - - - - - - \n"
     ]
    },
    {
     "data": {
      "text/plain": [
       "not_repaired\n",
       "no     0.7\n",
       "NaN    0.2\n",
       "yes    0.1\n",
       "Name: proportion, dtype: float64"
      ]
     },
     "metadata": {},
     "output_type": "display_data"
    },
    {
     "name": "stdout",
     "output_type": "stream",
     "text": [
      "- - - - - - - - - - - - - - \n"
     ]
    }
   ],
   "source": [
    "# Review categorical columns including NaN\n",
    "\n",
    "column_with_nan = ['vehicle_type', 'gearbox', 'model', 'fuel_type', 'not_repaired']\n",
    "\n",
    "for column in column_with_nan:\n",
    "    display(round(df[column].value_counts(dropna=False, normalize=True),2))\n",
    "    print('- - - - - - - - - - - - - - ')"
   ]
  },
  {
   "attachments": {},
   "cell_type": "markdown",
   "metadata": {},
   "source": [
    "Podemos ver el detalle como están distribuidos los datos por categoría, incluyendo los NaN. \n",
    "\n",
    "En las 5 columnas categóricas tenemos:\n",
    "- `vehicle_type` 10% de NaN.\n",
    "- `gearbox` 5% de NaN.\n",
    "- `model` 5% de NaN.\n",
    "- `fuel_type` 9% de NaN.\n",
    "- `not_repaired` 20% de NaN."
   ]
  },
  {
   "attachments": {},
   "cell_type": "markdown",
   "metadata": {},
   "source": [
    "a) Vamos a rellenar con una nueva categoría llamada \"*unspecified*\" en 4 columnas `vehicle_type`, `gearbox`, `model` y `fuel_type`, puesto que estas columnas son categóricas."
   ]
  },
  {
   "cell_type": "code",
   "execution_count": 23,
   "metadata": {},
   "outputs": [],
   "source": [
    "# Fill NaN per columns with NaN\n",
    "for column in ['vehicle_type', 'gearbox', 'model', 'fuel_type']:\n",
    "    df[column].fillna('unspecified', inplace=True)"
   ]
  },
  {
   "attachments": {},
   "cell_type": "markdown",
   "metadata": {},
   "source": [
    "b)  En la columna `not_repaired` consideramos que debe ser clara la respuesta, reparado o no reparado, por nos eliminaremos los NaN. Los NaN en esta columna representan el 20% de los registros del dataset. Antes de eliminar, revisaremos las distribuciones de los datos con y sin NaN; en el caso que no hayan cambios en la distribución procederemos a eliminar."
   ]
  },
  {
   "cell_type": "code",
   "execution_count": 24,
   "metadata": {},
   "outputs": [
    {
     "data": {
      "text/plain": [
       "(282962, 11)"
      ]
     },
     "execution_count": 24,
     "metadata": {},
     "output_type": "execute_result"
    }
   ],
   "source": [
    "# Data without NaN\n",
    "df_no_nan = df.query('not not_repaired.isna()')\n",
    "df_no_nan.shape"
   ]
  },
  {
   "attachments": {},
   "cell_type": "markdown",
   "metadata": {},
   "source": [
    "Veremos gráficamente las distribuciones de los datos:"
   ]
  },
  {
   "cell_type": "code",
   "execution_count": 25,
   "metadata": {},
   "outputs": [
    {
     "data": {
      "image/png": "[encoded data removed]",
      "text/plain": [
       "<Figure size 1600x1500 with 9 Axes>"
      ]
     },
     "metadata": {},
     "output_type": "display_data"
    }
   ],
   "source": [
    "# Plots to review the distributions on complete data with NaN and data without NaN.\n",
    "\n",
    "fig, ((a,b,c),(d,e,f),(g,h,i))= plt.subplots(figsize=(16,15), nrows=3, ncols=3)\n",
    "\n",
    "# Gráfico 1\n",
    "df['price'].hist(       ax=a, edgecolor='black', color='green', alpha=0.5, density=True, label='with NaN', bins=100)\n",
    "df_no_nan['price'].hist(ax=a, edgecolor='black', color='orange', alpha=0.5, density=True, label='No NaN', bins=100)\n",
    "a.legend()\n",
    "a.set_xlabel('price')\n",
    "a.set_ylabel('count')\n",
    "a.set_title('\"price\" with and without NaN')\n",
    "\n",
    "# Gráfico 2\n",
    "df['vehicle_type'].value_counts().plot(       ax=b, kind='bar', edgecolor='black', color='green', alpha=0.5, label='with NaN')\n",
    "df_no_nan['vehicle_type'].value_counts().plot(ax=b, kind='bar', edgecolor='black', color='orange', alpha=0.5, label='No NaN')\n",
    "b.legend()\n",
    "b.set_xlabel('vehicle_type')\n",
    "b.set_ylabel('count')\n",
    "b.set_title('\"vehicle type\" with and without NaN')\n",
    "\n",
    "# Gráfico 3\n",
    "condition_1 = 'registration_year > 2010 and registration_year <= 20016'\n",
    "df.query(condition_1)['registration_year'].value_counts().plot(       ax=c, kind='bar', edgecolor='black', color='green', alpha=0.5, label='with NaN')\n",
    "df_no_nan.query(condition_1)['registration_year'].value_counts().plot(ax=c, kind='bar', edgecolor='black', color='orange', alpha=0.5, label='No NaN')\n",
    "c.legend()\n",
    "c.set_xlabel('year')\n",
    "c.set_ylabel('count')\n",
    "c.set_title('\"registration year\" with and without NaN')\n",
    "\n",
    "# Gráfico 4\n",
    "df['gearbox'].value_counts().plot(       ax=d, kind='bar', edgecolor='black', color='green', alpha=0.5, label='with NaN')\n",
    "df_no_nan['gearbox'].value_counts().plot(ax=d, kind='bar', edgecolor='black', color='orange', alpha=0.5, label='No NaN')\n",
    "d.legend()\n",
    "d.set_xlabel('gearbox')\n",
    "d.set_ylabel('count')\n",
    "d.set_title('\"gearbox\" with and without NaN')\n",
    "\n",
    "# Gráfico 5\n",
    "df['power'].hist(       ax=e, bins=100, edgecolor='black', color='green', alpha=0.5, density=True, label='with NaN', range=(0,500))\n",
    "df_no_nan['power'].hist(ax=e, bins=100, edgecolor='black', color='orange', alpha=0.5, density=True, label='No NaN', range=(0,500) )\n",
    "e.legend()\n",
    "e.set_xlabel('power')\n",
    "e.set_ylabel('count')\n",
    "e.set_title('\"power\" with and without NaN')\n",
    "\n",
    "# Gráfico 6\n",
    "df['model'].value_counts().sort_values(ascending=False).head(20).plot(       ax=f, edgecolor='black', kind='bar', color='green', alpha=0.5, label='with NaN')\n",
    "df_no_nan['model'].value_counts().sort_values(ascending=False).head(20).plot(ax=f, edgecolor='black', kind='bar', color='orange', alpha=0.5, label='No NaN')\n",
    "f.legend()\n",
    "f.set_xlabel('model')\n",
    "f.set_ylabel('count')\n",
    "f.set_title('\"model\" with and without NaN')\n",
    "\n",
    "# Gráfico 7\n",
    "df['mileage'].hist(       ax=g, edgecolor='black', color='green', alpha=0.5, density=True, label='with NaN', bins=10)\n",
    "df_no_nan['mileage'].hist(ax=g, edgecolor='black', color='orange', alpha=0.5, density=True, label='No NaN', bins=11)\n",
    "g.legend()\n",
    "g.set_xlabel('mileage (Km)')\n",
    "g.set_ylabel('count')\n",
    "g.set_title('\"mileage\" with and without NaN')\n",
    "\n",
    "# Gráfico 8\n",
    "df['fuel_type'].value_counts().plot(       ax=h, kind='bar', edgecolor='black', color='green', alpha=0.5, label='with NaN')\n",
    "df_no_nan['fuel_type'].value_counts().plot(ax=h, kind='bar', edgecolor='black', color='orange', alpha=0.5, label='No NaN')\n",
    "h.legend()\n",
    "h.set_xlabel('fuel_type')\n",
    "h.set_ylabel('count')\n",
    "h.set_title('\"fuel_type\" with and without NaN')\n",
    "\n",
    "# Gráfico 9\n",
    "df['brand'].value_counts().sort_values(ascending=False).head(20).plot(       ax=i, kind='bar', edgecolor='black', color='green', alpha=0.5, label='with NaN')\n",
    "df_no_nan['brand'].value_counts().sort_values(ascending=False).head(20).plot(ax=i, kind='bar', edgecolor='black', color='orange', alpha=0.5, label='No NaN')\n",
    "i.legend()\n",
    "i.set_xlabel('brand')\n",
    "i.set_ylabel('count')\n",
    "i.set_title('\"brand\" with and without NaN')\n",
    "\n",
    "# Ajustes\n",
    "plt.subplots_adjust(left=0.125,\n",
    "                    bottom=0.2, \n",
    "                    right=1, \n",
    "                    top=1, \n",
    "                    wspace=0.2, \n",
    "                    hspace=0.45)\n",
    "\n",
    "plt.show()"
   ]
  },
  {
   "attachments": {},
   "cell_type": "markdown",
   "metadata": {},
   "source": [
    "Hemos podido revisar como se encuentran distribuidos los datos en cada característica desde el dataset total y el dataset sin registros NaN en la columna 'no_repaired', demostrando que los datos no cambian su distribución, por lo que procedemos a remover los registros que contienen NaN en `not_repaired`."
   ]
  },
  {
   "cell_type": "code",
   "execution_count": 26,
   "metadata": {},
   "outputs": [],
   "source": [
    "# Remove NaN in column not_repaired\n",
    "df = df.dropna(subset=['not_repaired'])\n",
    "df = df.reset_index(drop=True)"
   ]
  },
  {
   "cell_type": "code",
   "execution_count": 27,
   "metadata": {},
   "outputs": [
    {
     "name": "stdout",
     "output_type": "stream",
     "text": [
      "<class 'pandas.core.frame.DataFrame'>\n",
      "RangeIndex: 282962 entries, 0 to 282961\n",
      "Data columns (total 11 columns):\n",
      " #   Column             Non-Null Count   Dtype         \n",
      "---  ------             --------------   -----         \n",
      " 0   price              282962 non-null  int64         \n",
      " 1   vehicle_type       282962 non-null  object        \n",
      " 2   registration_year  282962 non-null  int64         \n",
      " 3   gearbox            282962 non-null  object        \n",
      " 4   power              282962 non-null  int64         \n",
      " 5   model              282962 non-null  object        \n",
      " 6   mileage            282962 non-null  int64         \n",
      " 7   fuel_type          282962 non-null  object        \n",
      " 8   brand              282962 non-null  object        \n",
      " 9   not_repaired       282962 non-null  bool          \n",
      " 10  date_created       282962 non-null  datetime64[ns]\n",
      "dtypes: bool(1), datetime64[ns](1), int64(4), object(5)\n",
      "memory usage: 21.9+ MB\n"
     ]
    }
   ],
   "source": [
    "# Change data type bool, yes = True, no = False\n",
    "df['not_repaired'] = df['not_repaired'] == 'yes'\n",
    "df.info()"
   ]
  },
  {
   "cell_type": "code",
   "execution_count": 28,
   "metadata": {},
   "outputs": [
    {
     "data": {
      "text/plain": [
       "(282962, 11)"
      ]
     },
     "execution_count": 28,
     "metadata": {},
     "output_type": "execute_result"
    }
   ],
   "source": [
    "df.shape"
   ]
  },
  {
   "cell_type": "code",
   "execution_count": 29,
   "metadata": {},
   "outputs": [
    {
     "data": {
      "text/plain": [
       "price                0\n",
       "vehicle_type         0\n",
       "registration_year    0\n",
       "gearbox              0\n",
       "power                0\n",
       "model                0\n",
       "mileage              0\n",
       "fuel_type            0\n",
       "brand                0\n",
       "not_repaired         0\n",
       "date_created         0\n",
       "dtype: int64"
      ]
     },
     "execution_count": 29,
     "metadata": {},
     "output_type": "execute_result"
    }
   ],
   "source": [
    "# Check NaN\n",
    "df.isna().sum()"
   ]
  },
  {
   "attachments": {},
   "cell_type": "markdown",
   "metadata": {},
   "source": [
    "Nuestro dataset está limpio de valores ausentes."
   ]
  },
  {
   "attachments": {},
   "cell_type": "markdown",
   "metadata": {},
   "source": [
    "# Análisis exploratorio de datos"
   ]
  },
  {
   "attachments": {},
   "cell_type": "markdown",
   "metadata": {},
   "source": [
    "Vamos a explorar nuestros datos:"
   ]
  },
  {
   "attachments": {},
   "cell_type": "markdown",
   "metadata": {},
   "source": [
    "### Tipo de vehículo"
   ]
  },
  {
   "cell_type": "code",
   "execution_count": 30,
   "metadata": {},
   "outputs": [
    {
     "data": {
      "image/png": "[encoded data removed]",
      "text/plain": [
       "<Figure size 640x480 with 1 Axes>"
      ]
     },
     "metadata": {},
     "output_type": "display_data"
    }
   ],
   "source": [
    "df.vehicle_type.value_counts().plot(kind='pie')\n",
    "plt.show()"
   ]
  },
  {
   "attachments": {},
   "cell_type": "markdown",
   "metadata": {},
   "source": [
    "Predominan 3 tipos de carros, sedan, wagon y small."
   ]
  },
  {
   "attachments": {},
   "cell_type": "markdown",
   "metadata": {},
   "source": [
    "### Año de registro\n",
    "\n",
    "Describe el año de matricula del vehículo. Con esta información podremos determinar un periodo válido de los años de matriculación de vehículo, por ejemplo un periodo de 20 años."
   ]
  },
  {
   "cell_type": "code",
   "execution_count": 31,
   "metadata": {},
   "outputs": [
    {
     "data": {
      "text/plain": [
       "array([1000, 1234, 1500, 1600, 1602, 1800, 1910, 1919, 1923, 1925, 1929,\n",
       "       1930, 1931, 1932, 1933, 1934, 1935, 1936, 1937, 1938, 1940, 1941,\n",
       "       1942, 1943, 1944, 1945, 1947, 1948, 1950, 1951, 1952, 1953, 1954,\n",
       "       1955, 1956, 1957, 1958, 1959, 1960, 1961, 1962, 1963, 1964, 1965,\n",
       "       1966, 1967, 1968, 1969, 1970, 1971, 1972, 1973, 1974, 1975, 1976,\n",
       "       1977, 1978, 1979, 1980, 1981, 1982, 1983, 1984, 1985, 1986, 1987,\n",
       "       1988, 1989, 1990, 1991, 1992, 1993, 1994, 1995, 1996, 1997, 1998,\n",
       "       1999, 2000, 2001, 2002, 2003, 2004, 2005, 2006, 2007, 2008, 2009,\n",
       "       2010, 2011, 2012, 2013, 2014, 2015, 2016, 2017, 2018, 2019, 3000,\n",
       "       4000, 4500, 5000, 6000, 6500, 7500, 9000, 9999], dtype=int64)"
      ]
     },
     "execution_count": 31,
     "metadata": {},
     "output_type": "execute_result"
    }
   ],
   "source": [
    "df.registration_year.sort_values().unique()"
   ]
  },
  {
   "cell_type": "code",
   "execution_count": 32,
   "metadata": {},
   "outputs": [
    {
     "data": {
      "text/plain": [
       "registration_year\n",
       "1999    17854\n",
       "2005    17642\n",
       "2006    17597\n",
       "2000    17191\n",
       "2003    16665\n",
       "2004    16605\n",
       "2001    16491\n",
       "2002    15917\n",
       "2007    15349\n",
       "2008    13933\n",
       "1998    13815\n",
       "2009    13260\n",
       "1997    11087\n",
       "2010     9871\n",
       "2011     9213\n",
       "1996     8077\n",
       "2012     6716\n",
       "1995     6275\n",
       "2017     5847\n",
       "2016     5172\n",
       "Name: count, dtype: int64"
      ]
     },
     "execution_count": 32,
     "metadata": {},
     "output_type": "execute_result"
    }
   ],
   "source": [
    "df.registration_year.value_counts().head(20)"
   ]
  },
  {
   "attachments": {},
   "cell_type": "markdown",
   "metadata": {},
   "source": [
    "Encontramos vehículos con registros desde el año 1000 hasta el 9999, no tiene sentido tener registros debajo de los años 90 y por encima del 2016, siendo el 2016 el año máximo, puesto que esta base de datos fue extraida en el año 2016. Dicho esto es muy prudente considerar nuestro dataset en un periodo de 20 años, desde 1996 hasta el 2016."
   ]
  },
  {
   "cell_type": "code",
   "execution_count": 33,
   "metadata": {},
   "outputs": [
    {
     "data": {
      "text/html": [
       "<div>\n",
       "<style scoped>\n",
       "    .dataframe tbody tr th:only-of-type {\n",
       "        vertical-align: middle;\n",
       "    }\n",
       "\n",
       "    .dataframe tbody tr th {\n",
       "        vertical-align: top;\n",
       "    }\n",
       "\n",
       "    .dataframe thead th {\n",
       "        text-align: right;\n",
       "    }\n",
       "</style>\n",
       "<table border=\"1\" class=\"dataframe\">\n",
       "  <thead>\n",
       "    <tr style=\"text-align: right;\">\n",
       "      <th></th>\n",
       "      <th>price</th>\n",
       "      <th>vehicle_type</th>\n",
       "      <th>registration_year</th>\n",
       "      <th>gearbox</th>\n",
       "      <th>power</th>\n",
       "      <th>model</th>\n",
       "      <th>mileage</th>\n",
       "      <th>fuel_type</th>\n",
       "      <th>brand</th>\n",
       "      <th>not_repaired</th>\n",
       "      <th>date_created</th>\n",
       "    </tr>\n",
       "  </thead>\n",
       "  <tbody>\n",
       "    <tr>\n",
       "      <th>3</th>\n",
       "      <td>650</td>\n",
       "      <td>sedan</td>\n",
       "      <td>1995</td>\n",
       "      <td>manual</td>\n",
       "      <td>102</td>\n",
       "      <td>3er</td>\n",
       "      <td>150000</td>\n",
       "      <td>petrol</td>\n",
       "      <td>bmw</td>\n",
       "      <td>True</td>\n",
       "      <td>2016-04-04</td>\n",
       "    </tr>\n",
       "    <tr>\n",
       "      <th>5</th>\n",
       "      <td>0</td>\n",
       "      <td>sedan</td>\n",
       "      <td>1980</td>\n",
       "      <td>manual</td>\n",
       "      <td>50</td>\n",
       "      <td>other</td>\n",
       "      <td>40000</td>\n",
       "      <td>petrol</td>\n",
       "      <td>volkswagen</td>\n",
       "      <td>False</td>\n",
       "      <td>2016-03-21</td>\n",
       "    </tr>\n",
       "    <tr>\n",
       "      <th>15</th>\n",
       "      <td>2900</td>\n",
       "      <td>unspecified</td>\n",
       "      <td>2018</td>\n",
       "      <td>manual</td>\n",
       "      <td>90</td>\n",
       "      <td>meriva</td>\n",
       "      <td>150000</td>\n",
       "      <td>petrol</td>\n",
       "      <td>opel</td>\n",
       "      <td>False</td>\n",
       "      <td>2016-03-23</td>\n",
       "    </tr>\n",
       "    <tr>\n",
       "      <th>17</th>\n",
       "      <td>500</td>\n",
       "      <td>sedan</td>\n",
       "      <td>1990</td>\n",
       "      <td>manual</td>\n",
       "      <td>118</td>\n",
       "      <td>other</td>\n",
       "      <td>150000</td>\n",
       "      <td>petrol</td>\n",
       "      <td>mercedes_benz</td>\n",
       "      <td>True</td>\n",
       "      <td>2016-03-13</td>\n",
       "    </tr>\n",
       "    <tr>\n",
       "      <th>19</th>\n",
       "      <td>5555</td>\n",
       "      <td>unspecified</td>\n",
       "      <td>2017</td>\n",
       "      <td>manual</td>\n",
       "      <td>125</td>\n",
       "      <td>c4</td>\n",
       "      <td>125000</td>\n",
       "      <td>unspecified</td>\n",
       "      <td>citroen</td>\n",
       "      <td>False</td>\n",
       "      <td>2016-03-10</td>\n",
       "    </tr>\n",
       "    <tr>\n",
       "      <th>...</th>\n",
       "      <td>...</td>\n",
       "      <td>...</td>\n",
       "      <td>...</td>\n",
       "      <td>...</td>\n",
       "      <td>...</td>\n",
       "      <td>...</td>\n",
       "      <td>...</td>\n",
       "      <td>...</td>\n",
       "      <td>...</td>\n",
       "      <td>...</td>\n",
       "      <td>...</td>\n",
       "    </tr>\n",
       "    <tr>\n",
       "      <th>282905</th>\n",
       "      <td>5000</td>\n",
       "      <td>unspecified</td>\n",
       "      <td>2017</td>\n",
       "      <td>manual</td>\n",
       "      <td>120</td>\n",
       "      <td>other</td>\n",
       "      <td>150000</td>\n",
       "      <td>unspecified</td>\n",
       "      <td>citroen</td>\n",
       "      <td>True</td>\n",
       "      <td>2016-03-05</td>\n",
       "    </tr>\n",
       "    <tr>\n",
       "      <th>282914</th>\n",
       "      <td>850</td>\n",
       "      <td>sedan</td>\n",
       "      <td>1989</td>\n",
       "      <td>manual</td>\n",
       "      <td>113</td>\n",
       "      <td>80</td>\n",
       "      <td>150000</td>\n",
       "      <td>petrol</td>\n",
       "      <td>audi</td>\n",
       "      <td>True</td>\n",
       "      <td>2016-03-05</td>\n",
       "    </tr>\n",
       "    <tr>\n",
       "      <th>282922</th>\n",
       "      <td>1550</td>\n",
       "      <td>small</td>\n",
       "      <td>1990</td>\n",
       "      <td>manual</td>\n",
       "      <td>54</td>\n",
       "      <td>golf</td>\n",
       "      <td>150000</td>\n",
       "      <td>petrol</td>\n",
       "      <td>volkswagen</td>\n",
       "      <td>False</td>\n",
       "      <td>2016-04-04</td>\n",
       "    </tr>\n",
       "    <tr>\n",
       "      <th>282925</th>\n",
       "      <td>3300</td>\n",
       "      <td>coupe</td>\n",
       "      <td>1957</td>\n",
       "      <td>manual</td>\n",
       "      <td>40</td>\n",
       "      <td>other</td>\n",
       "      <td>100000</td>\n",
       "      <td>petrol</td>\n",
       "      <td>trabant</td>\n",
       "      <td>False</td>\n",
       "      <td>2016-03-07</td>\n",
       "    </tr>\n",
       "    <tr>\n",
       "      <th>282932</th>\n",
       "      <td>12800</td>\n",
       "      <td>convertible</td>\n",
       "      <td>1991</td>\n",
       "      <td>manual</td>\n",
       "      <td>211</td>\n",
       "      <td>other</td>\n",
       "      <td>150000</td>\n",
       "      <td>petrol</td>\n",
       "      <td>porsche</td>\n",
       "      <td>False</td>\n",
       "      <td>2016-03-12</td>\n",
       "    </tr>\n",
       "  </tbody>\n",
       "</table>\n",
       "<p>33243 rows × 11 columns</p>\n",
       "</div>"
      ],
      "text/plain": [
       "        price vehicle_type  registration_year gearbox  power   model  mileage   \n",
       "3         650        sedan               1995  manual    102     3er   150000  \\\n",
       "5           0        sedan               1980  manual     50   other    40000   \n",
       "15       2900  unspecified               2018  manual     90  meriva   150000   \n",
       "17        500        sedan               1990  manual    118   other   150000   \n",
       "19       5555  unspecified               2017  manual    125      c4   125000   \n",
       "...       ...          ...                ...     ...    ...     ...      ...   \n",
       "282905   5000  unspecified               2017  manual    120   other   150000   \n",
       "282914    850        sedan               1989  manual    113      80   150000   \n",
       "282922   1550        small               1990  manual     54    golf   150000   \n",
       "282925   3300        coupe               1957  manual     40   other   100000   \n",
       "282932  12800  convertible               1991  manual    211   other   150000   \n",
       "\n",
       "          fuel_type          brand  not_repaired date_created  \n",
       "3            petrol            bmw          True   2016-04-04  \n",
       "5            petrol     volkswagen         False   2016-03-21  \n",
       "15           petrol           opel         False   2016-03-23  \n",
       "17           petrol  mercedes_benz          True   2016-03-13  \n",
       "19      unspecified        citroen         False   2016-03-10  \n",
       "...             ...            ...           ...          ...  \n",
       "282905  unspecified        citroen          True   2016-03-05  \n",
       "282914       petrol           audi          True   2016-03-05  \n",
       "282922       petrol     volkswagen         False   2016-04-04  \n",
       "282925       petrol        trabant         False   2016-03-07  \n",
       "282932       petrol        porsche         False   2016-03-12  \n",
       "\n",
       "[33243 rows x 11 columns]"
      ]
     },
     "execution_count": 33,
     "metadata": {},
     "output_type": "execute_result"
    }
   ],
   "source": [
    "# Check \n",
    "df.query('registration_year < 1996 or registration_year > 2016')"
   ]
  },
  {
   "cell_type": "code",
   "execution_count": 34,
   "metadata": {},
   "outputs": [
    {
     "name": "stdout",
     "output_type": "stream",
     "text": [
      "% 12\n"
     ]
    }
   ],
   "source": [
    "# Percentage of cars registered outside the period of years 1996-2016\n",
    "print('%', round(len(df.query('registration_year < 1996 or registration_year > 2016')) / len(df) * 100))"
   ]
  },
  {
   "attachments": {},
   "cell_type": "markdown",
   "metadata": {},
   "source": [
    "El 12% de los registros están fuera del periodo 1996 - 2016."
   ]
  },
  {
   "cell_type": "code",
   "execution_count": 35,
   "metadata": {},
   "outputs": [],
   "source": [
    "# Filter year 1996 - 2016\n",
    "df = df.query('registration_year >= 1996 and registration_year <= 2016')\n",
    "df = df.reset_index(drop=True)"
   ]
  },
  {
   "cell_type": "code",
   "execution_count": 36,
   "metadata": {},
   "outputs": [
    {
     "data": {
      "text/plain": [
       "(249719, 11)"
      ]
     },
     "execution_count": 36,
     "metadata": {},
     "output_type": "execute_result"
    }
   ],
   "source": [
    "df.shape"
   ]
  },
  {
   "attachments": {},
   "cell_type": "markdown",
   "metadata": {},
   "source": [
    "Veamos gráficamente los vehículos distribuidos según el año de matriculación (periodo 1996 - 2016)"
   ]
  },
  {
   "cell_type": "code",
   "execution_count": 37,
   "metadata": {},
   "outputs": [
    {
     "data": {
      "image/png": "[encoded data removed]",
      "text/plain": [
       "<Figure size 640x480 with 1 Axes>"
      ]
     },
     "metadata": {},
     "output_type": "display_data"
    }
   ],
   "source": [
    "df[['registration_year']].boxplot()\n",
    "plt.show()"
   ]
  },
  {
   "attachments": {},
   "cell_type": "markdown",
   "metadata": {},
   "source": [
    "### Kilometraje\n",
    "Revisaremos la información sobre el kilometraje del vehículo"
   ]
  },
  {
   "cell_type": "code",
   "execution_count": 38,
   "metadata": {},
   "outputs": [
    {
     "data": {
      "image/png": "[encoded data removed]",
      "text/plain": [
       "<Figure size 640x480 with 1 Axes>"
      ]
     },
     "metadata": {},
     "output_type": "display_data"
    }
   ],
   "source": [
    "df.mileage.value_counts().plot(kind='bar')\n",
    "plt.show()"
   ]
  },
  {
   "attachments": {},
   "cell_type": "markdown",
   "metadata": {},
   "source": [
    "La mayor parte de los vehículos que están en venta tienen un kilometraje por encima de los 125.000 km."
   ]
  },
  {
   "attachments": {},
   "cell_type": "markdown",
   "metadata": {},
   "source": [
    "### Potencia"
   ]
  },
  {
   "cell_type": "code",
   "execution_count": 39,
   "metadata": {},
   "outputs": [
    {
     "data": {
      "text/plain": [
       "array([    0,     1,     2,     3,     4,     5,     6,     7,     8,\n",
       "           9,    10,    11,    12,    13,    14,    15,    16,    17,\n",
       "          18,    19,    20,    22,    23,    24,    25,    26,    29,\n",
       "          30,    31,    32,    33,    34,    35,    36,    37,    38,\n",
       "          39,    40,    41,    42,    43,    44,    45,    46,    47,\n",
       "          48,    49,    50,    51,    52,    53,    54,    55,    56,\n",
       "          57,    58,    59,    60,    61,    62,    63,    64,    65,\n",
       "          66,    67,    68,    69,    70,    71,    72,    73,    74,\n",
       "          75,    76,    77,    78,    79,    80,    81,    82,    83,\n",
       "          84,    85,    86,    87,    88,    89,    90,    91,    92,\n",
       "          93,    94,    95,    96,    97,    98,    99,   100,   101,\n",
       "         102,   103,   104,   105,   106,   107,   108,   109,   110,\n",
       "         111,   112,   113,   114,   115,   116,   117,   118,   119,\n",
       "         120,   121,   122,   123,   124,   125,   126,   127,   128,\n",
       "         129,   130,   131,   132,   133,   134,   135,   136,   137,\n",
       "         138,   139,   140,   141,   142,   143,   144,   145,   146,\n",
       "         147,   148,   149,   150,   151,   152,   153,   154,   155,\n",
       "         156,   157,   158,   159,   160,   161,   162,   163,   164,\n",
       "         165,   166,   167,   168,   169,   170,   171,   172,   173,\n",
       "         174,   175,   176,   177,   178,   179,   180,   181,   182,\n",
       "         183,   184,   185,   186,   187,   188,   189,   190,   191,\n",
       "         192,   193,   194,   195,   196,   197,   198,   199,   200,\n",
       "         201,   202,   203,   204,   205,   206,   207,   208,   209,\n",
       "         210,   211,   212,   213,   214,   215,   216,   217,   218,\n",
       "         219,   220,   222,   223,   224,   225,   226,   227,   228,\n",
       "         229,   230,   231,   232,   233,   234,   235,   236,   237,\n",
       "         238,   239,   240,   241,   242,   243,   244,   245,   246,\n",
       "         247,   248,   249,   250,   251,   252,   253,   254,   255,\n",
       "         256,   257,   258,   259,   260,   261,   262,   264,   265,\n",
       "         266,   268,   269,   270,   271,   272,   273,   274,   275,\n",
       "         276,   277,   278,   279,   280,   281,   283,   284,   285,\n",
       "         286,   287,   288,   289,   290,   292,   293,   294,   295,\n",
       "         296,   297,   298,   299,   300,   301,   303,   304,   305,\n",
       "         306,   307,   308,   309,   310,   311,   313,   314,   315,\n",
       "         316,   317,   318,   320,   321,   322,   323,   324,   325,\n",
       "         326,   328,   329,   330,   331,   332,   333,   334,   335,\n",
       "         336,   337,   338,   339,   340,   341,   343,   344,   345,\n",
       "         346,   347,   348,   349,   350,   351,   353,   354,   355,\n",
       "         356,   357,   358,   360,   361,   362,   363,   364,   365,\n",
       "         367,   368,   370,   371,   374,   376,   377,   379,   380,\n",
       "         381,   382,   385,   386,   387,   388,   390,   392,   394,\n",
       "         396,   399,   400,   401,   405,   408,   409,   411,   416,\n",
       "         420,   421,   426,   428,   430,   431,   435,   442,   445,\n",
       "         450,   457,   459,   475,   476,   485,   487,   489,   490,\n",
       "         500,   504,   505,   507,   508,   510,   514,   515,   517,\n",
       "         519,   520,   521,   525,   550,   553,   560,   579,   585,\n",
       "         600,   601,   602,   603,   606,   650,   682,   696,   702,\n",
       "         732,   750,   751,   776,   800,   871,   900,   902,   903,\n",
       "         907,   909,   923,   950,   952,   953,   999,  1000,  1001,\n",
       "        1002,  1003,  1004,  1005,  1011,  1012,  1016,  1021,  1024,\n",
       "        1054,  1055,  1056,  1062,  1079,  1090,  1100,  1102,  1111,\n",
       "        1115,  1120,  1149,  1158,  1160,  1162,  1164,  1199,  1223,\n",
       "        1240,  1241,  1275,  1288,  1300,  1317,  1339,  1360,  1362,\n",
       "        1363,  1398,  1399,  1400,  1403,  1405,  1416,  1432,  1433,\n",
       "        1436,  1500,  1502,  1506,  1521,  1595,  1598,  1600,  1689,\n",
       "        1700,  1701,  1703,  1704,  1707,  1753,  1779,  1780,  1781,\n",
       "        1783,  1793,  1796,  1799,  1800,  1801,  1900,  1910,  1920,\n",
       "        1933,  1968,  1995,  1998,  2000,  2004,  2005,  2007,  2009,\n",
       "        2016,  2017,  2018,  2200,  2331,  2340,  2389,  2402,  2729,\n",
       "        3750,  4400,  4507,  4700,  5411,  5420,  5815,  5867,  6006,\n",
       "        6010,  6011,  6045,  6062,  6226,  6920,  7508,  7511,  7518,\n",
       "        8259,  8500,  9007, 10000, 10311, 10317, 10520, 10710, 10910,\n",
       "       11011, 11509, 11530, 12510, 13636, 14009, 15001, 15020, 15033,\n",
       "       16311, 16312, 17700, 19208, 19312, 20000], dtype=int64)"
      ]
     },
     "execution_count": 39,
     "metadata": {},
     "output_type": "execute_result"
    }
   ],
   "source": [
    "df['power'].sort_values().unique()"
   ]
  },
  {
   "attachments": {},
   "cell_type": "markdown",
   "metadata": {},
   "source": [
    "Existen vehiculos con potencias desde 0 hasta 2000. Grafiquemos esta distribución, e identifiquemos outliers."
   ]
  },
  {
   "cell_type": "code",
   "execution_count": 40,
   "metadata": {},
   "outputs": [
    {
     "data": {
      "text/plain": [
       "<Axes: >"
      ]
     },
     "execution_count": 40,
     "metadata": {},
     "output_type": "execute_result"
    },
    {
     "data": {
      "image/png": "[encoded data removed]",
      "text/plain": [
       "<Figure size 640x480 with 1 Axes>"
      ]
     },
     "metadata": {},
     "output_type": "display_data"
    }
   ],
   "source": [
    "df['power'].hist(bins=50, range=(0,1000), edgecolor='black')"
   ]
  },
  {
   "cell_type": "code",
   "execution_count": 41,
   "metadata": {},
   "outputs": [
    {
     "data": {
      "text/html": [
       "<div>\n",
       "<style scoped>\n",
       "    .dataframe tbody tr th:only-of-type {\n",
       "        vertical-align: middle;\n",
       "    }\n",
       "\n",
       "    .dataframe tbody tr th {\n",
       "        vertical-align: top;\n",
       "    }\n",
       "\n",
       "    .dataframe thead th {\n",
       "        text-align: right;\n",
       "    }\n",
       "</style>\n",
       "<table border=\"1\" class=\"dataframe\">\n",
       "  <thead>\n",
       "    <tr style=\"text-align: right;\">\n",
       "      <th></th>\n",
       "      <th>price</th>\n",
       "      <th>vehicle_type</th>\n",
       "      <th>registration_year</th>\n",
       "      <th>gearbox</th>\n",
       "      <th>power</th>\n",
       "      <th>model</th>\n",
       "      <th>mileage</th>\n",
       "      <th>fuel_type</th>\n",
       "      <th>brand</th>\n",
       "      <th>not_repaired</th>\n",
       "      <th>date_created</th>\n",
       "    </tr>\n",
       "  </thead>\n",
       "  <tbody>\n",
       "    <tr>\n",
       "      <th>20</th>\n",
       "      <td>1500</td>\n",
       "      <td>unspecified</td>\n",
       "      <td>2016</td>\n",
       "      <td>unspecified</td>\n",
       "      <td>0</td>\n",
       "      <td>kangoo</td>\n",
       "      <td>150000</td>\n",
       "      <td>gasoline</td>\n",
       "      <td>renault</td>\n",
       "      <td>False</td>\n",
       "      <td>2016-03-28</td>\n",
       "    </tr>\n",
       "    <tr>\n",
       "      <th>27</th>\n",
       "      <td>4700</td>\n",
       "      <td>wagon</td>\n",
       "      <td>2005</td>\n",
       "      <td>manual</td>\n",
       "      <td>0</td>\n",
       "      <td>signum</td>\n",
       "      <td>150000</td>\n",
       "      <td>unspecified</td>\n",
       "      <td>opel</td>\n",
       "      <td>False</td>\n",
       "      <td>2016-03-17</td>\n",
       "    </tr>\n",
       "    <tr>\n",
       "      <th>28</th>\n",
       "      <td>550</td>\n",
       "      <td>wagon</td>\n",
       "      <td>1999</td>\n",
       "      <td>manual</td>\n",
       "      <td>0</td>\n",
       "      <td>astra</td>\n",
       "      <td>150000</td>\n",
       "      <td>gasoline</td>\n",
       "      <td>opel</td>\n",
       "      <td>True</td>\n",
       "      <td>2016-03-26</td>\n",
       "    </tr>\n",
       "    <tr>\n",
       "      <th>56</th>\n",
       "      <td>4290</td>\n",
       "      <td>bus</td>\n",
       "      <td>2008</td>\n",
       "      <td>manual</td>\n",
       "      <td>0</td>\n",
       "      <td>combo</td>\n",
       "      <td>150000</td>\n",
       "      <td>gasoline</td>\n",
       "      <td>opel</td>\n",
       "      <td>False</td>\n",
       "      <td>2016-03-11</td>\n",
       "    </tr>\n",
       "    <tr>\n",
       "      <th>73</th>\n",
       "      <td>8000</td>\n",
       "      <td>unspecified</td>\n",
       "      <td>2009</td>\n",
       "      <td>manual</td>\n",
       "      <td>0</td>\n",
       "      <td>golf</td>\n",
       "      <td>100000</td>\n",
       "      <td>petrol</td>\n",
       "      <td>volkswagen</td>\n",
       "      <td>False</td>\n",
       "      <td>2016-03-20</td>\n",
       "    </tr>\n",
       "    <tr>\n",
       "      <th>...</th>\n",
       "      <td>...</td>\n",
       "      <td>...</td>\n",
       "      <td>...</td>\n",
       "      <td>...</td>\n",
       "      <td>...</td>\n",
       "      <td>...</td>\n",
       "      <td>...</td>\n",
       "      <td>...</td>\n",
       "      <td>...</td>\n",
       "      <td>...</td>\n",
       "      <td>...</td>\n",
       "    </tr>\n",
       "    <tr>\n",
       "      <th>249692</th>\n",
       "      <td>7900</td>\n",
       "      <td>bus</td>\n",
       "      <td>2007</td>\n",
       "      <td>manual</td>\n",
       "      <td>0</td>\n",
       "      <td>b_klasse</td>\n",
       "      <td>125000</td>\n",
       "      <td>petrol</td>\n",
       "      <td>mercedes_benz</td>\n",
       "      <td>False</td>\n",
       "      <td>2016-03-13</td>\n",
       "    </tr>\n",
       "    <tr>\n",
       "      <th>249695</th>\n",
       "      <td>390</td>\n",
       "      <td>small</td>\n",
       "      <td>1997</td>\n",
       "      <td>auto</td>\n",
       "      <td>0</td>\n",
       "      <td>corsa</td>\n",
       "      <td>100000</td>\n",
       "      <td>petrol</td>\n",
       "      <td>opel</td>\n",
       "      <td>True</td>\n",
       "      <td>2016-04-04</td>\n",
       "    </tr>\n",
       "    <tr>\n",
       "      <th>249712</th>\n",
       "      <td>3999</td>\n",
       "      <td>wagon</td>\n",
       "      <td>2005</td>\n",
       "      <td>manual</td>\n",
       "      <td>3</td>\n",
       "      <td>3er</td>\n",
       "      <td>150000</td>\n",
       "      <td>gasoline</td>\n",
       "      <td>bmw</td>\n",
       "      <td>False</td>\n",
       "      <td>2016-04-02</td>\n",
       "    </tr>\n",
       "    <tr>\n",
       "      <th>249715</th>\n",
       "      <td>1150</td>\n",
       "      <td>bus</td>\n",
       "      <td>2000</td>\n",
       "      <td>manual</td>\n",
       "      <td>0</td>\n",
       "      <td>zafira</td>\n",
       "      <td>150000</td>\n",
       "      <td>petrol</td>\n",
       "      <td>opel</td>\n",
       "      <td>False</td>\n",
       "      <td>2016-03-27</td>\n",
       "    </tr>\n",
       "    <tr>\n",
       "      <th>249716</th>\n",
       "      <td>0</td>\n",
       "      <td>unspecified</td>\n",
       "      <td>2005</td>\n",
       "      <td>manual</td>\n",
       "      <td>0</td>\n",
       "      <td>colt</td>\n",
       "      <td>150000</td>\n",
       "      <td>petrol</td>\n",
       "      <td>mitsubishi</td>\n",
       "      <td>True</td>\n",
       "      <td>2016-03-21</td>\n",
       "    </tr>\n",
       "  </tbody>\n",
       "</table>\n",
       "<p>14702 rows × 11 columns</p>\n",
       "</div>"
      ],
      "text/plain": [
       "        price vehicle_type  registration_year      gearbox  power     model   \n",
       "20       1500  unspecified               2016  unspecified      0    kangoo  \\\n",
       "27       4700        wagon               2005       manual      0    signum   \n",
       "28        550        wagon               1999       manual      0     astra   \n",
       "56       4290          bus               2008       manual      0     combo   \n",
       "73       8000  unspecified               2009       manual      0      golf   \n",
       "...       ...          ...                ...          ...    ...       ...   \n",
       "249692   7900          bus               2007       manual      0  b_klasse   \n",
       "249695    390        small               1997         auto      0     corsa   \n",
       "249712   3999        wagon               2005       manual      3       3er   \n",
       "249715   1150          bus               2000       manual      0    zafira   \n",
       "249716      0  unspecified               2005       manual      0      colt   \n",
       "\n",
       "        mileage    fuel_type          brand  not_repaired date_created  \n",
       "20       150000     gasoline        renault         False   2016-03-28  \n",
       "27       150000  unspecified           opel         False   2016-03-17  \n",
       "28       150000     gasoline           opel          True   2016-03-26  \n",
       "56       150000     gasoline           opel         False   2016-03-11  \n",
       "73       100000       petrol     volkswagen         False   2016-03-20  \n",
       "...         ...          ...            ...           ...          ...  \n",
       "249692   125000       petrol  mercedes_benz         False   2016-03-13  \n",
       "249695   100000       petrol           opel          True   2016-04-04  \n",
       "249712   150000     gasoline            bmw         False   2016-04-02  \n",
       "249715   150000       petrol           opel         False   2016-03-27  \n",
       "249716   150000       petrol     mitsubishi          True   2016-03-21  \n",
       "\n",
       "[14702 rows x 11 columns]"
      ]
     },
     "execution_count": 41,
     "metadata": {},
     "output_type": "execute_result"
    }
   ],
   "source": [
    "df.query('power <= 10')"
   ]
  },
  {
   "cell_type": "code",
   "execution_count": 42,
   "metadata": {},
   "outputs": [
    {
     "data": {
      "text/plain": [
       "power\n",
       "75      0.065906\n",
       "0       0.058278\n",
       "60      0.043581\n",
       "150     0.043161\n",
       "140     0.043144\n",
       "          ...   \n",
       "519     0.000004\n",
       "585     0.000004\n",
       "6006    0.000004\n",
       "5815    0.000004\n",
       "1241    0.000004\n",
       "Name: proportion, Length: 573, dtype: float64"
      ]
     },
     "execution_count": 42,
     "metadata": {},
     "output_type": "execute_result"
    }
   ],
   "source": [
    "df.power.value_counts(normalize=True)"
   ]
  },
  {
   "attachments": {},
   "cell_type": "markdown",
   "metadata": {},
   "source": [
    "Observamos que el 5,8% de registros tiene power=0, estos deben ser eliminados."
   ]
  },
  {
   "cell_type": "code",
   "execution_count": 43,
   "metadata": {},
   "outputs": [
    {
     "data": {
      "text/plain": [
       "249719"
      ]
     },
     "execution_count": 43,
     "metadata": {},
     "output_type": "execute_result"
    }
   ],
   "source": [
    "len(df)"
   ]
  },
  {
   "cell_type": "code",
   "execution_count": 44,
   "metadata": {},
   "outputs": [
    {
     "data": {
      "text/plain": [
       "(235166, 11)"
      ]
     },
     "execution_count": 44,
     "metadata": {},
     "output_type": "execute_result"
    }
   ],
   "source": [
    "# Remove power = 0\n",
    "df = df.drop(df[df.power == 0].index)\n",
    "df = df.reset_index(drop=True)\n",
    "df.shape"
   ]
  },
  {
   "attachments": {},
   "cell_type": "markdown",
   "metadata": {},
   "source": [
    "Vemos que los datos en power tienen un sesgo a la derecha, es decir valores muy grandes con una frecuencia baja. A continuacion buscaremos y eliminaremos outliers de ser el caso."
   ]
  },
  {
   "cell_type": "code",
   "execution_count": 45,
   "metadata": {},
   "outputs": [],
   "source": [
    "# funtion clean_outliers\n",
    "def clean_outliers(df, col):\n",
    "\n",
    "    Q1 = df[col].quantile(0.25)\n",
    "    Q3 = df[col].quantile(0.75)\n",
    "    IQR = Q3 - Q1\n",
    "\n",
    "    min = (Q1 - 1.5 * IQR).astype('int')\n",
    "    max = (Q3 + 1.5 * IQR).astype('int')\n",
    "\n",
    "    indexes = df[(df[col] <= min) | (df[col] >= max)].index\n",
    "    df = df.drop(indexes)\n",
    "    return df"
   ]
  },
  {
   "cell_type": "code",
   "execution_count": 46,
   "metadata": {},
   "outputs": [
    {
     "data": {
      "image/png": "[encoded data removed]",
      "text/plain": [
       "<Figure size 640x480 with 1 Axes>"
      ]
     },
     "metadata": {},
     "output_type": "display_data"
    }
   ],
   "source": [
    "df[['power']].query('power < 500').boxplot()\n",
    "plt.title('Boxplot distribution \"power\"')\n",
    "plt.show()"
   ]
  },
  {
   "cell_type": "code",
   "execution_count": 47,
   "metadata": {},
   "outputs": [
    {
     "data": {
      "text/plain": [
       "235166"
      ]
     },
     "execution_count": 47,
     "metadata": {},
     "output_type": "execute_result"
    }
   ],
   "source": [
    "len(df)"
   ]
  },
  {
   "cell_type": "code",
   "execution_count": 48,
   "metadata": {},
   "outputs": [
    {
     "name": "stdout",
     "output_type": "stream",
     "text": [
      "removed outliers 2.46% \n",
      "\n"
     ]
    }
   ],
   "source": [
    "# Clean outliers in \"power\"\n",
    "total = len(df)\n",
    "df = clean_outliers(df, 'power')\n",
    "df = df.reset_index(drop=True)\n",
    "\n",
    "percent = (total - len(df)) / total\n",
    "print(f'removed outliers {percent:.2%} \\n')"
   ]
  },
  {
   "cell_type": "code",
   "execution_count": 49,
   "metadata": {},
   "outputs": [
    {
     "data": {
      "text/plain": [
       "229390"
      ]
     },
     "execution_count": 49,
     "metadata": {},
     "output_type": "execute_result"
    }
   ],
   "source": [
    "len(df)"
   ]
  },
  {
   "attachments": {},
   "cell_type": "markdown",
   "metadata": {},
   "source": [
    "Visualizamos los datos de \"power\" después de eliminar el 2.46% de registros outliers."
   ]
  },
  {
   "cell_type": "code",
   "execution_count": 50,
   "metadata": {},
   "outputs": [
    {
     "data": {
      "image/png": "[encoded data removed]",
      "text/plain": [
       "<Figure size 640x480 with 1 Axes>"
      ]
     },
     "metadata": {},
     "output_type": "display_data"
    }
   ],
   "source": [
    "df[['power']].boxplot()\n",
    "plt.title('Boxplot distribution \"power\"')\n",
    "plt.show()"
   ]
  },
  {
   "attachments": {},
   "cell_type": "markdown",
   "metadata": {},
   "source": [
    "Nuestro dataset queda saneado con valores mayores a 0 y menos a 250 en la columna \"power\"."
   ]
  },
  {
   "attachments": {},
   "cell_type": "markdown",
   "metadata": {},
   "source": [
    "### Marca"
   ]
  },
  {
   "cell_type": "code",
   "execution_count": 51,
   "metadata": {},
   "outputs": [
    {
     "data": {
      "text/plain": [
       "Text(0.5, 1.0, 'Top 10 brand car')"
      ]
     },
     "execution_count": 51,
     "metadata": {},
     "output_type": "execute_result"
    },
    {
     "data": {
      "image/png": "[encoded data removed]",
      "text/plain": [
       "<Figure size 640x480 with 1 Axes>"
      ]
     },
     "metadata": {},
     "output_type": "display_data"
    }
   ],
   "source": [
    "df.brand.value_counts(ascending=False).head(10).plot(kind='bar', rot=25)\n",
    "plt.title('Top 10 brand car')"
   ]
  },
  {
   "attachments": {},
   "cell_type": "markdown",
   "metadata": {},
   "source": [
    "### Precio"
   ]
  },
  {
   "cell_type": "code",
   "execution_count": 52,
   "metadata": {},
   "outputs": [
    {
     "data": {
      "image/png": "[encoded data removed]",
      "text/plain": [
       "<Figure size 1000x400 with 1 Axes>"
      ]
     },
     "metadata": {},
     "output_type": "display_data"
    }
   ],
   "source": [
    "df.price.hist(bins=120, edgecolor='black', figsize=(10,4))\n",
    "plt.title('Boxplot distribution \"price\"')\n",
    "plt.show()"
   ]
  },
  {
   "attachments": {},
   "cell_type": "markdown",
   "metadata": {},
   "source": [
    "Podemos observar en el histograma una distribución con una asimetría positiva, los vehículos más se ponen en venta están por debajo de 3000 euros, y entre mayor es precio menor la frecuencia de venta, podemos observar vehículos hasta en 20.000 euros. También podemos observar vehículos que valen menos que 100 euros."
   ]
  },
  {
   "cell_type": "code",
   "execution_count": 53,
   "metadata": {},
   "outputs": [
    {
     "name": "stdout",
     "output_type": "stream",
     "text": [
      "0.02\n"
     ]
    }
   ],
   "source": [
    "print(round(len(df.query('price < 100')) / len(df),2))"
   ]
  },
  {
   "attachments": {},
   "cell_type": "markdown",
   "metadata": {},
   "source": [
    "El valor mínimo que se pone en venta un vehículo deberá estar validado en la app de venta de carros, sin embargo para fines de este estudio podríamos establecer como valor mínimo de venta de 100 euros. Por lo que tomaremos los valores menores a 100 y los removeremos de nuestro dataset, estos representan el 2% de los datos"
   ]
  },
  {
   "cell_type": "code",
   "execution_count": 54,
   "metadata": {},
   "outputs": [
    {
     "data": {
      "text/plain": [
       "(229390, 11)"
      ]
     },
     "execution_count": 54,
     "metadata": {},
     "output_type": "execute_result"
    }
   ],
   "source": [
    "df.shape"
   ]
  },
  {
   "cell_type": "code",
   "execution_count": 55,
   "metadata": {},
   "outputs": [
    {
     "data": {
      "text/plain": [
       "(225605, 11)"
      ]
     },
     "execution_count": 55,
     "metadata": {},
     "output_type": "execute_result"
    }
   ],
   "source": [
    "# Remove price < 100 euros\n",
    "df = df.drop(df[df.price < 100].index)\n",
    "df = df.reset_index(drop=True)\n",
    "df.shape"
   ]
  },
  {
   "attachments": {},
   "cell_type": "markdown",
   "metadata": {},
   "source": [
    "Ok, hemos eliminado los registros con precios menores a 100 euros. Nuestro dataset ha disminuido un 2%."
   ]
  },
  {
   "attachments": {},
   "cell_type": "markdown",
   "metadata": {},
   "source": [
    "### Correlaciones\n",
    "\n",
    "Revisemos la interdependencia del precio con respecto a otras características, mediante la correlación:"
   ]
  },
  {
   "cell_type": "code",
   "execution_count": 56,
   "metadata": {},
   "outputs": [
    {
     "data": {
      "text/html": [
       "<div>\n",
       "<style scoped>\n",
       "    .dataframe tbody tr th:only-of-type {\n",
       "        vertical-align: middle;\n",
       "    }\n",
       "\n",
       "    .dataframe tbody tr th {\n",
       "        vertical-align: top;\n",
       "    }\n",
       "\n",
       "    .dataframe thead th {\n",
       "        text-align: right;\n",
       "    }\n",
       "</style>\n",
       "<table border=\"1\" class=\"dataframe\">\n",
       "  <thead>\n",
       "    <tr style=\"text-align: right;\">\n",
       "      <th></th>\n",
       "      <th>price</th>\n",
       "      <th>registration_year</th>\n",
       "      <th>power</th>\n",
       "      <th>mileage</th>\n",
       "    </tr>\n",
       "  </thead>\n",
       "  <tbody>\n",
       "    <tr>\n",
       "      <th>price</th>\n",
       "      <td>1.000000</td>\n",
       "      <td>0.672759</td>\n",
       "      <td>0.495534</td>\n",
       "      <td>-0.425847</td>\n",
       "    </tr>\n",
       "    <tr>\n",
       "      <th>registration_year</th>\n",
       "      <td>0.672759</td>\n",
       "      <td>1.000000</td>\n",
       "      <td>0.139703</td>\n",
       "      <td>-0.483183</td>\n",
       "    </tr>\n",
       "    <tr>\n",
       "      <th>power</th>\n",
       "      <td>0.495534</td>\n",
       "      <td>0.139703</td>\n",
       "      <td>1.000000</td>\n",
       "      <td>0.122896</td>\n",
       "    </tr>\n",
       "    <tr>\n",
       "      <th>mileage</th>\n",
       "      <td>-0.425847</td>\n",
       "      <td>-0.483183</td>\n",
       "      <td>0.122896</td>\n",
       "      <td>1.000000</td>\n",
       "    </tr>\n",
       "  </tbody>\n",
       "</table>\n",
       "</div>"
      ],
      "text/plain": [
       "                      price  registration_year     power   mileage\n",
       "price              1.000000           0.672759  0.495534 -0.425847\n",
       "registration_year  0.672759           1.000000  0.139703 -0.483183\n",
       "power              0.495534           0.139703  1.000000  0.122896\n",
       "mileage           -0.425847          -0.483183  0.122896  1.000000"
      ]
     },
     "execution_count": 56,
     "metadata": {},
     "output_type": "execute_result"
    }
   ],
   "source": [
    "df[['price','registration_year','power','mileage']].corr()"
   ]
  },
  {
   "cell_type": "code",
   "execution_count": 57,
   "metadata": {},
   "outputs": [
    {
     "data": {
      "image/png": "[encoded data removed]",
      "text/plain": [
       "<Figure size 640x480 with 1 Axes>"
      ]
     },
     "metadata": {},
     "output_type": "display_data"
    }
   ],
   "source": [
    "df.plot(x='price', y='registration_year', kind='scatter', alpha=0.3) \n",
    "plt.title('Correlation price - year')\n",
    "plt.show()"
   ]
  },
  {
   "attachments": {},
   "cell_type": "markdown",
   "metadata": {},
   "source": [
    "Observamos la correlacion entre precio y varias características del vehículo. Podemos ver que hay conexiones muy débiles ya que son cercanas a cero, y conexiones medianamente fuerte price con registration_year con un 0.67 de correlación."
   ]
  },
  {
   "attachments": {},
   "cell_type": "markdown",
   "metadata": {},
   "source": [
    "# Procesamiento de datos"
   ]
  },
  {
   "attachments": {},
   "cell_type": "markdown",
   "metadata": {},
   "source": [
    "### Escalado de datos\n",
    "Antes de empezar a entrenar nuestro modelo vamos a aplicar un escalado en los datos con la estandarización de datos usando `StandardScaler` a las siguientes columnas numéricas:"
   ]
  },
  {
   "cell_type": "code",
   "execution_count": 58,
   "metadata": {},
   "outputs": [],
   "source": [
    "# Copy dataframe df to df_scaler\n",
    "df_scaler = df.copy()"
   ]
  },
  {
   "cell_type": "code",
   "execution_count": 59,
   "metadata": {},
   "outputs": [],
   "source": [
    "# Numerical feature scaling\n",
    "numeric = ['registration_year', 'power', 'mileage']\n",
    "\n",
    "scaler = StandardScaler()\n",
    "scaler.fit(df_scaler[numeric])\n",
    "\n",
    "df_scaler[numeric] = scaler.transform(df_scaler[numeric])"
   ]
  },
  {
   "cell_type": "code",
   "execution_count": 60,
   "metadata": {},
   "outputs": [
    {
     "data": {
      "text/html": [
       "<div>\n",
       "<style scoped>\n",
       "    .dataframe tbody tr th:only-of-type {\n",
       "        vertical-align: middle;\n",
       "    }\n",
       "\n",
       "    .dataframe tbody tr th {\n",
       "        vertical-align: top;\n",
       "    }\n",
       "\n",
       "    .dataframe thead th {\n",
       "        text-align: right;\n",
       "    }\n",
       "</style>\n",
       "<table border=\"1\" class=\"dataframe\">\n",
       "  <thead>\n",
       "    <tr style=\"text-align: right;\">\n",
       "      <th></th>\n",
       "      <th>price</th>\n",
       "      <th>vehicle_type</th>\n",
       "      <th>registration_year</th>\n",
       "      <th>gearbox</th>\n",
       "      <th>power</th>\n",
       "      <th>model</th>\n",
       "      <th>mileage</th>\n",
       "      <th>fuel_type</th>\n",
       "      <th>brand</th>\n",
       "      <th>not_repaired</th>\n",
       "      <th>date_created</th>\n",
       "    </tr>\n",
       "  </thead>\n",
       "  <tbody>\n",
       "    <tr>\n",
       "      <th>0</th>\n",
       "      <td>18300</td>\n",
       "      <td>coupe</td>\n",
       "      <td>1.390021</td>\n",
       "      <td>manual</td>\n",
       "      <td>1.555349</td>\n",
       "      <td>unspecified</td>\n",
       "      <td>-0.042657</td>\n",
       "      <td>gasoline</td>\n",
       "      <td>audi</td>\n",
       "      <td>True</td>\n",
       "      <td>2016-03-24</td>\n",
       "    </tr>\n",
       "    <tr>\n",
       "      <th>1</th>\n",
       "      <td>1500</td>\n",
       "      <td>small</td>\n",
       "      <td>-0.680925</td>\n",
       "      <td>manual</td>\n",
       "      <td>-0.964598</td>\n",
       "      <td>golf</td>\n",
       "      <td>0.626120</td>\n",
       "      <td>petrol</td>\n",
       "      <td>volkswagen</td>\n",
       "      <td>False</td>\n",
       "      <td>2016-03-17</td>\n",
       "    </tr>\n",
       "    <tr>\n",
       "      <th>2</th>\n",
       "      <td>3600</td>\n",
       "      <td>small</td>\n",
       "      <td>0.768737</td>\n",
       "      <td>manual</td>\n",
       "      <td>-1.096073</td>\n",
       "      <td>fabia</td>\n",
       "      <td>-0.978945</td>\n",
       "      <td>gasoline</td>\n",
       "      <td>skoda</td>\n",
       "      <td>False</td>\n",
       "      <td>2016-03-31</td>\n",
       "    </tr>\n",
       "    <tr>\n",
       "      <th>3</th>\n",
       "      <td>2200</td>\n",
       "      <td>convertible</td>\n",
       "      <td>-0.059641</td>\n",
       "      <td>manual</td>\n",
       "      <td>-0.219570</td>\n",
       "      <td>2_reihe</td>\n",
       "      <td>0.626120</td>\n",
       "      <td>petrol</td>\n",
       "      <td>peugeot</td>\n",
       "      <td>False</td>\n",
       "      <td>2016-04-01</td>\n",
       "    </tr>\n",
       "    <tr>\n",
       "      <th>4</th>\n",
       "      <td>2000</td>\n",
       "      <td>sedan</td>\n",
       "      <td>-0.059641</td>\n",
       "      <td>manual</td>\n",
       "      <td>-0.307220</td>\n",
       "      <td>3_reihe</td>\n",
       "      <td>0.626120</td>\n",
       "      <td>petrol</td>\n",
       "      <td>mazda</td>\n",
       "      <td>False</td>\n",
       "      <td>2016-03-26</td>\n",
       "    </tr>\n",
       "  </tbody>\n",
       "</table>\n",
       "</div>"
      ],
      "text/plain": [
       "   price vehicle_type  registration_year gearbox     power        model   \n",
       "0  18300        coupe           1.390021  manual  1.555349  unspecified  \\\n",
       "1   1500        small          -0.680925  manual -0.964598         golf   \n",
       "2   3600        small           0.768737  manual -1.096073        fabia   \n",
       "3   2200  convertible          -0.059641  manual -0.219570      2_reihe   \n",
       "4   2000        sedan          -0.059641  manual -0.307220      3_reihe   \n",
       "\n",
       "    mileage fuel_type       brand  not_repaired date_created  \n",
       "0 -0.042657  gasoline        audi          True   2016-03-24  \n",
       "1  0.626120    petrol  volkswagen         False   2016-03-17  \n",
       "2 -0.978945  gasoline       skoda         False   2016-03-31  \n",
       "3  0.626120    petrol     peugeot         False   2016-04-01  \n",
       "4  0.626120    petrol       mazda         False   2016-03-26  "
      ]
     },
     "execution_count": 60,
     "metadata": {},
     "output_type": "execute_result"
    }
   ],
   "source": [
    "df_scaler.head()"
   ]
  },
  {
   "attachments": {},
   "cell_type": "markdown",
   "metadata": {},
   "source": [
    "### Codificar características categóricas\n",
    "Realizaremos codificacion de variables categóricas usando *One-Hot Encoding*. Las columnas categóricas a las que se aplicará la codificación son las siguientes: 'vehicle_type', 'gearbox', 'model', 'fuel_type', y 'brand'. "
   ]
  },
  {
   "attachments": {},
   "cell_type": "markdown",
   "metadata": {},
   "source": [
    "Primero identificamos las características y objetivo: `features`, `target`"
   ]
  },
  {
   "cell_type": "code",
   "execution_count": 61,
   "metadata": {},
   "outputs": [],
   "source": [
    "# identify characteristics and target\n",
    "features = df_scaler.drop(['price','date_created'], axis=1)\n",
    "target   = df_scaler['price']"
   ]
  },
  {
   "attachments": {},
   "cell_type": "markdown",
   "metadata": {},
   "source": [
    "Guardamos nuestras características con codificación One-Hot en: `features_ohe`."
   ]
  },
  {
   "cell_type": "code",
   "execution_count": 62,
   "metadata": {},
   "outputs": [],
   "source": [
    "# Encode categorical features with One-Hot encoding\n",
    "features_ohe = pd.get_dummies(data = features, \n",
    "                              columns=['vehicle_type', 'gearbox', 'model', 'fuel_type', 'brand'], \n",
    "                              drop_first=True)"
   ]
  },
  {
   "cell_type": "code",
   "execution_count": 63,
   "metadata": {},
   "outputs": [
    {
     "data": {
      "text/plain": [
       "((225605, 9), (225605, 304))"
      ]
     },
     "execution_count": 63,
     "metadata": {},
     "output_type": "execute_result"
    }
   ],
   "source": [
    "features.shape, features_ohe.shape"
   ]
  },
  {
   "attachments": {},
   "cell_type": "markdown",
   "metadata": {},
   "source": [
    "Podemos ver el tamaño de nuestras características con y sin One-Hot, las que se le aplicó la codificación aumentaron considerablemente el número de columnas, con razón puesto que teníamos mucha variedad en la marca y el modelo del vehículo."
   ]
  },
  {
   "attachments": {},
   "cell_type": "markdown",
   "metadata": {},
   "source": [
    "Segmentamos nuestro dataset en datos para entrenamiento, validación y test, proporción: 4:2:2"
   ]
  },
  {
   "cell_type": "code",
   "execution_count": 64,
   "metadata": {},
   "outputs": [],
   "source": [
    "X_train, X_valid, X_train_ohe, X_valid_ohe, y_train, y_valid = train_test_split(features, features_ohe, target, test_size=0.40, random_state=12345)\n",
    "X_valid, X_test,  X_valid_ohe, X_test_ohe,  y_valid, y_test  = train_test_split(X_valid,  X_valid_ohe, y_valid, test_size=0.50, random_state=12345)"
   ]
  },
  {
   "cell_type": "code",
   "execution_count": 65,
   "metadata": {},
   "outputs": [
    {
     "name": "stdout",
     "output_type": "stream",
     "text": [
      "Size\n",
      "- data train: features(135363, 9),features ohe: (135363, 304),target(135363,)\n",
      "- data valid: features(45121, 9), features ohe: (45121, 304), target(45121,)\n",
      "- data test:  features(45121, 9), features ohe: (45121, 304), target(45121,)\n"
     ]
    }
   ],
   "source": [
    "print('Size')\n",
    "print(f'- data train: features{X_train.shape},features ohe: {X_train_ohe.shape},target{y_train.shape}')\n",
    "print(f'- data valid: features{X_valid.shape}, features ohe: {X_valid_ohe.shape}, target{y_valid.shape}')\n",
    "print(f'- data test:  features{X_test.shape}, features ohe: {X_test_ohe.shape}, target{y_test.shape}')"
   ]
  },
  {
   "attachments": {},
   "cell_type": "markdown",
   "metadata": {},
   "source": [
    "# Entrenamiento del modelo "
   ]
  },
  {
   "attachments": {},
   "cell_type": "markdown",
   "metadata": {},
   "source": [
    "Vamos a entrenar varios modelos para predecir el precio de un vehículo. Buscaremos el mejor con el menor error usando la métrica RMSE para evaluar la calidad de los modelos. Además revisaremos la velocidad de predicción y el tiempo para el entrenamiento. Nuestros modelos probarán técnicas de potenciación de gradiente, y un modelo basado en árboles, todos ajustando hiperparámetros. Además, realizaremos una prueba de cordura, para ella realizaremos un modelo usando regresión lineal."
   ]
  },
  {
   "cell_type": "code",
   "execution_count": 66,
   "metadata": {},
   "outputs": [],
   "source": [
    "# Create a data frame named \"summary_models\" where we will save information about our different models\n",
    "summary_models = pd.DataFrame(columns=['model', 'score_rmse', 'training_time_sec', 'prediction_speed_sec'])"
   ]
  },
  {
   "attachments": {},
   "cell_type": "markdown",
   "metadata": {},
   "source": [
    "## Modelo base con Regresión lineal\n",
    "Entrenaremos un modelo de regresión lineal como prueba de cordura para el mejor modelo que entrenemos."
   ]
  },
  {
   "cell_type": "code",
   "execution_count": 67,
   "metadata": {},
   "outputs": [
    {
     "name": "stdout",
     "output_type": "stream",
     "text": [
      "Model Linear regression\n",
      "RMSE= 2149.98,    time train: 2.54s,    time prediction: 0.08s\n"
     ]
    }
   ],
   "source": [
    "# Linear Regression\n",
    "model_lr = LinearRegression()\n",
    "start_time = time.time()\n",
    "model_lr.fit(X_train_ohe, y_train)\n",
    "train_time = time.time() - start_time\n",
    "\n",
    "# Prediction valid data\n",
    "start_time = time.time()\n",
    "y_predict = model_lr.predict(X_valid_ohe)\n",
    "pred_time = time.time() - start_time\n",
    "\n",
    "# Metric\n",
    "rmse = mean_squared_error(y_valid, y_predict, squared=False) \n",
    "print('Model Linear regression')\n",
    "\n",
    "# Print the times of train and predict\n",
    "print(\"RMSE= {:.2f},    time train: {:.2f}s,    time prediction: {:.2f}s\".format(rmse, train_time, pred_time))\n",
    "\n",
    "# Save info\n",
    "summary_models.loc['LinearRegression'] = {'model': model_lr, \n",
    "                                          'score_rmse': rmse, \n",
    "                                          'training_time_sec':train_time, \n",
    "                                          'prediction_speed_sec':pred_time}"
   ]
  },
  {
   "attachments": {},
   "cell_type": "markdown",
   "metadata": {},
   "source": [
    "Nuestro modelo base con Regresion Lineal, tiene un `RMSE` 2149, es bastate alto. Por lo que el modelo que vamos a entrenar debe ser mejor que este, debemos minimizar este error."
   ]
  },
  {
   "attachments": {},
   "cell_type": "markdown",
   "metadata": {},
   "source": [
    "## Modelo Bosque Aleatorio"
   ]
  },
  {
   "cell_type": "code",
   "execution_count": 68,
   "metadata": {},
   "outputs": [
    {
     "name": "stdout",
     "output_type": "stream",
     "text": [
      "Random Forest Regressor, adjusting hyperparameters:\n",
      "RMSE= 2402.08,    tree: 4,    max_depth: 4\n",
      "RMSE= 1921.40,    tree: 4,    max_depth: 8\n",
      "RMSE= 1681.73,    tree: 4,    max_depth: 12\n",
      "RMSE= 1566.12,    tree: 4,    max_depth: 16\n",
      "RMSE= 2407.96,    tree: 6,    max_depth: 4\n",
      "RMSE= 1912.09,    tree: 6,    max_depth: 8\n",
      "RMSE= 1671.76,    tree: 6,    max_depth: 12\n",
      "RMSE= 1551.47,    tree: 6,    max_depth: 16\n",
      "RMSE= 2405.59,    tree: 8,    max_depth: 4\n",
      "RMSE= 1908.77,    tree: 8,    max_depth: 8\n",
      "RMSE= 1666.35,    tree: 8,    max_depth: 12\n",
      "RMSE= 1542.55,    tree: 8,    max_depth: 16\n",
      "RMSE= 2411.84,    tree: 10,    max_depth: 4\n",
      "RMSE= 1910.24,    tree: 10,    max_depth: 8\n",
      "RMSE= 1664.78,    tree: 10,    max_depth: 12\n",
      "RMSE= 1539.97,    tree: 10,    max_depth: 16\n",
      "\n",
      "Best RMSE 1539.9743616298827\n"
     ]
    },
    {
     "data": {
      "text/html": [
       "<style>#sk-container-id-1 {color: black;background-color: white;}#sk-container-id-1 pre{padding: 0;}#sk-container-id-1 div.sk-toggleable {background-color: white;}#sk-container-id-1 label.sk-toggleable__label {cursor: pointer;display: block;width: 100%;margin-bottom: 0;padding: 0.3em;box-sizing: border-box;text-align: center;}#sk-container-id-1 label.sk-toggleable__label-arrow:before {content: \"▸\";float: left;margin-right: 0.25em;color: #696969;}#sk-container-id-1 label.sk-toggleable__label-arrow:hover:before {color: black;}#sk-container-id-1 div.sk-estimator:hover label.sk-toggleable__label-arrow:before {color: black;}#sk-container-id-1 div.sk-toggleable__content {max-height: 0;max-width: 0;overflow: hidden;text-align: left;background-color: #f0f8ff;}#sk-container-id-1 div.sk-toggleable__content pre {margin: 0.2em;color: black;border-radius: 0.25em;background-color: #f0f8ff;}#sk-container-id-1 input.sk-toggleable__control:checked~div.sk-toggleable__content {max-height: 200px;max-width: 100%;overflow: auto;}#sk-container-id-1 input.sk-toggleable__control:checked~label.sk-toggleable__label-arrow:before {content: \"▾\";}#sk-container-id-1 div.sk-estimator input.sk-toggleable__control:checked~label.sk-toggleable__label {background-color: #d4ebff;}#sk-container-id-1 div.sk-label input.sk-toggleable__control:checked~label.sk-toggleable__label {background-color: #d4ebff;}#sk-container-id-1 input.sk-hidden--visually {border: 0;clip: rect(1px 1px 1px 1px);clip: rect(1px, 1px, 1px, 1px);height: 1px;margin: -1px;overflow: hidden;padding: 0;position: absolute;width: 1px;}#sk-container-id-1 div.sk-estimator {font-family: monospace;background-color: #f0f8ff;border: 1px dotted black;border-radius: 0.25em;box-sizing: border-box;margin-bottom: 0.5em;}#sk-container-id-1 div.sk-estimator:hover {background-color: #d4ebff;}#sk-container-id-1 div.sk-parallel-item::after {content: \"\";width: 100%;border-bottom: 1px solid gray;flex-grow: 1;}#sk-container-id-1 div.sk-label:hover label.sk-toggleable__label {background-color: #d4ebff;}#sk-container-id-1 div.sk-serial::before {content: \"\";position: absolute;border-left: 1px solid gray;box-sizing: border-box;top: 0;bottom: 0;left: 50%;z-index: 0;}#sk-container-id-1 div.sk-serial {display: flex;flex-direction: column;align-items: center;background-color: white;padding-right: 0.2em;padding-left: 0.2em;position: relative;}#sk-container-id-1 div.sk-item {position: relative;z-index: 1;}#sk-container-id-1 div.sk-parallel {display: flex;align-items: stretch;justify-content: center;background-color: white;position: relative;}#sk-container-id-1 div.sk-item::before, #sk-container-id-1 div.sk-parallel-item::before {content: \"\";position: absolute;border-left: 1px solid gray;box-sizing: border-box;top: 0;bottom: 0;left: 50%;z-index: -1;}#sk-container-id-1 div.sk-parallel-item {display: flex;flex-direction: column;z-index: 1;position: relative;background-color: white;}#sk-container-id-1 div.sk-parallel-item:first-child::after {align-self: flex-end;width: 50%;}#sk-container-id-1 div.sk-parallel-item:last-child::after {align-self: flex-start;width: 50%;}#sk-container-id-1 div.sk-parallel-item:only-child::after {width: 0;}#sk-container-id-1 div.sk-dashed-wrapped {border: 1px dashed gray;margin: 0 0.4em 0.5em 0.4em;box-sizing: border-box;padding-bottom: 0.4em;background-color: white;}#sk-container-id-1 div.sk-label label {font-family: monospace;font-weight: bold;display: inline-block;line-height: 1.2em;}#sk-container-id-1 div.sk-label-container {text-align: center;}#sk-container-id-1 div.sk-container {/* jupyter's `normalize.less` sets `[hidden] { display: none; }` but bootstrap.min.css set `[hidden] { display: none !important; }` so we also need the `!important` here to be able to override the default hidden behavior on the sphinx rendered scikit-learn.org. See: https://github.com/scikit-learn/scikit-learn/issues/21755 */display: inline-block !important;position: relative;}#sk-container-id-1 div.sk-text-repr-fallback {display: none;}</style><div id=\"sk-container-id-1\" class=\"sk-top-container\"><div class=\"sk-text-repr-fallback\"><pre>RandomForestRegressor(max_depth=16, n_estimators=10, random_state=12345)</pre><b>In a Jupyter environment, please rerun this cell to show the HTML representation or trust the notebook. <br />On GitHub, the HTML representation is unable to render, please try loading this page with nbviewer.org.</b></div><div class=\"sk-container\" hidden><div class=\"sk-item\"><div class=\"sk-estimator sk-toggleable\"><input class=\"sk-toggleable__control sk-hidden--visually\" id=\"sk-estimator-id-1\" type=\"checkbox\" checked><label for=\"sk-estimator-id-1\" class=\"sk-toggleable__label sk-toggleable__label-arrow\">RandomForestRegressor</label><div class=\"sk-toggleable__content\"><pre>RandomForestRegressor(max_depth=16, n_estimators=10, random_state=12345)</pre></div></div></div></div></div>"
      ],
      "text/plain": [
       "RandomForestRegressor(max_depth=16, n_estimators=10, random_state=12345)"
      ]
     },
     "metadata": {},
     "output_type": "display_data"
    }
   ],
   "source": [
    "# Adjusting hyperparameters to Randon Forest:\n",
    "\n",
    "print('Random Forest Regressor, adjusting hyperparameters:')\n",
    "\n",
    "best_score = float('inf')\n",
    "for tree in range(4, 11, 2):\n",
    "    for depth in range(4, 17, 4):\n",
    "        model_rf = RandomForestRegressor(random_state = 12345, \n",
    "                                         n_estimators = tree, \n",
    "                                         max_depth = depth)\n",
    "\n",
    "        # Training\n",
    "        model_rf.fit(X_train_ohe, y_train)\n",
    "\n",
    "        # predicción para datos de valiación\n",
    "        y_pred = model_rf.predict(X_valid_ohe)\n",
    "\n",
    "        # Metric\n",
    "        rmse = mean_squared_error(y_valid, y_pred, squared=False) \n",
    "        print(\"RMSE= {:.2f},    tree: {},    max_depth: {}\".format(rmse, tree, depth))\n",
    "\n",
    "        if rmse < best_score:\n",
    "            best_score = rmse\n",
    "            best_model = model_rf\n",
    "\n",
    "print(f'\\nBest RMSE {best_score}')\n",
    "display(best_model)"
   ]
  },
  {
   "attachments": {},
   "cell_type": "markdown",
   "metadata": {},
   "source": [
    "Como vemos, hemos obtenido nuestros mejores hiperparámetros. A continuación realizaremos el entrenamiento final de este modelo RandomForest."
   ]
  },
  {
   "cell_type": "code",
   "execution_count": 69,
   "metadata": {},
   "outputs": [
    {
     "name": "stdout",
     "output_type": "stream",
     "text": [
      "Model Random Forest Regressor\n",
      "RMSE= 1539.97,    time train: 15.29s,    time prediction: 0.11s\n"
     ]
    }
   ],
   "source": [
    "# Random Forest Regressor:\n",
    "\n",
    "print('Model Random Forest Regressor')\n",
    "\n",
    "model_rf = RandomForestRegressor(random_state=12345, \n",
    "                                 n_estimators=10, \n",
    "                                 max_depth=16)\n",
    "\n",
    "# Training\n",
    "start_time = time.time()\n",
    "model_rf.fit(X_train_ohe, y_train)\n",
    "train_time = time.time() - start_time\n",
    "\n",
    "# Predict\n",
    "start_time = time.time()\n",
    "y_pred = model_rf.predict(X_valid_ohe)\n",
    "pred_time = time.time() - start_time\n",
    "\n",
    "# Metric\n",
    "rmse = mean_squared_error(y_valid, y_pred, squared=False) \n",
    "\n",
    "print(\"RMSE= {:.2f},    time train: {:.2f}s,    time prediction: {:.2f}s\".format(rmse, train_time, pred_time))\n",
    "\n",
    "# Save info\n",
    "summary_models.loc['RandomForestRegressor'] = {'model': model_rf, \n",
    "                                               'score_rmse': rmse, \n",
    "                                               'training_time_sec':train_time, \n",
    "                                               'prediction_speed_sec':pred_time}"
   ]
  },
  {
   "attachments": {},
   "cell_type": "markdown",
   "metadata": {},
   "source": [
    "Nuestro modelo RandomForestRegressor obtuvo un `RMSE` 1539 mejor que nuestro modelo base."
   ]
  },
  {
   "attachments": {},
   "cell_type": "markdown",
   "metadata": {},
   "source": [
    "## Modelos con potenciación de gradiente (Gradient boosting)"
   ]
  },
  {
   "attachments": {},
   "cell_type": "markdown",
   "metadata": {},
   "source": [
    "### Modelo CatBoostRegressor\n",
    "\n",
    "Entrenaremos un modelo con CatBoostRegressor; este está basado en árboles de decisión. Realizaremos un ajuste de hiperparámetros con GridSearchCV, donde variaremos la profundidad del árbol, tasa de aprendizaje y el número de iteraciones.\n",
    "\n",
    "Además usaremos nuestras características sin codificación ohe `X_train, X_valid`, ya que CatBoost aplica internamente técnicas de codificación para características categóricas."
   ]
  },
  {
   "cell_type": "code",
   "execution_count": 70,
   "metadata": {},
   "outputs": [
    {
     "name": "stdout",
     "output_type": "stream",
     "text": [
      "0:\tlearn: 3539.6593718\ttotal: 171ms\tremaining: 1.53s\n",
      "9:\tlearn: 1903.8110332\ttotal: 350ms\tremaining: 0us\n",
      "0:\tlearn: 3549.9211421\ttotal: 23.1ms\tremaining: 208ms\n",
      "9:\tlearn: 1907.6558277\ttotal: 193ms\tremaining: 0us\n",
      "0:\tlearn: 3535.9414445\ttotal: 18.8ms\tremaining: 169ms\n",
      "9:\tlearn: 1883.6858118\ttotal: 183ms\tremaining: 0us\n",
      "0:\tlearn: 4038.0953836\ttotal: 21.8ms\tremaining: 196ms\n",
      "9:\tlearn: 2227.2652321\ttotal: 185ms\tremaining: 0us\n",
      "0:\tlearn: 4049.9920566\ttotal: 18.7ms\tremaining: 169ms\n",
      "9:\tlearn: 2220.3933193\ttotal: 181ms\tremaining: 0us\n",
      "0:\tlearn: 4037.4381234\ttotal: 19.3ms\tremaining: 174ms\n",
      "9:\tlearn: 2216.5329960\ttotal: 189ms\tremaining: 0us\n",
      "0:\tlearn: 3539.6593718\ttotal: 19.2ms\tremaining: 1.9s\n",
      "99:\tlearn: 1605.6061474\ttotal: 1.77s\tremaining: 0us\n",
      "0:\tlearn: 3549.9211421\ttotal: 19.6ms\tremaining: 1.94s\n",
      "99:\tlearn: 1585.5350443\ttotal: 1.83s\tremaining: 0us\n",
      "0:\tlearn: 3535.9414445\ttotal: 19.8ms\tremaining: 1.96s\n",
      "99:\tlearn: 1586.9943518\ttotal: 1.86s\tremaining: 0us\n",
      "0:\tlearn: 4038.0953836\ttotal: 18.7ms\tremaining: 1.85s\n",
      "99:\tlearn: 1653.6325426\ttotal: 1.75s\tremaining: 0us\n",
      "0:\tlearn: 4049.9920566\ttotal: 18.3ms\tremaining: 1.81s\n",
      "99:\tlearn: 1638.1783052\ttotal: 1.74s\tremaining: 0us\n",
      "0:\tlearn: 4037.4381234\ttotal: 19.2ms\tremaining: 1.9s\n",
      "99:\tlearn: 1638.2294168\ttotal: 1.74s\tremaining: 0us\n",
      "0:\tlearn: 3561.8699662\ttotal: 28.2ms\tremaining: 5.61s\n",
      "100:\tlearn: 1591.3283263\ttotal: 2.65s\tremaining: 2.6s\n",
      "199:\tlearn: 1537.5253500\ttotal: 5.24s\tremaining: 0us\n",
      "0:\tlearn: 3556.6831619\ttotal: 28.9ms\tremaining: 5.75s\n",
      "100:\tlearn: 1580.6629076\ttotal: 2.57s\tremaining: 2.52s\n",
      "199:\tlearn: 1522.2995263\ttotal: 4.98s\tremaining: 0us\n",
      "0:\tlearn: 3565.8062562\ttotal: 28.1ms\tremaining: 5.58s\n",
      "100:\tlearn: 1584.9599092\ttotal: 2.62s\tremaining: 2.57s\n",
      "199:\tlearn: 1532.9484925\ttotal: 4.98s\tremaining: 0us\n",
      "0:\tlearn: 4049.0867420\ttotal: 28.2ms\tremaining: 5.61s\n",
      "100:\tlearn: 1632.6058121\ttotal: 2.49s\tremaining: 2.44s\n",
      "199:\tlearn: 1575.1974529\ttotal: 4.86s\tremaining: 0us\n",
      "0:\tlearn: 4053.3348872\ttotal: 30.7ms\tremaining: 6.12s\n",
      "100:\tlearn: 1620.8373339\ttotal: 2.64s\tremaining: 2.59s\n",
      "199:\tlearn: 1563.9107355\ttotal: 5.06s\tremaining: 0us\n",
      "0:\tlearn: 4052.2049099\ttotal: 29.7ms\tremaining: 5.91s\n",
      "100:\tlearn: 1624.8038641\ttotal: 2.64s\tremaining: 2.59s\n",
      "199:\tlearn: 1564.0615006\ttotal: 5.07s\tremaining: 0us\n",
      "0:\tlearn: 3430.6616387\ttotal: 27.1ms\tremaining: 244ms\n",
      "9:\tlearn: 1788.4777908\ttotal: 271ms\tremaining: 0us\n",
      "0:\tlearn: 3445.1588426\ttotal: 25.9ms\tremaining: 233ms\n",
      "9:\tlearn: 1755.9409790\ttotal: 274ms\tremaining: 0us\n",
      "0:\tlearn: 3425.6439406\ttotal: 27.2ms\tremaining: 245ms\n",
      "9:\tlearn: 1761.3838341\ttotal: 276ms\tremaining: 0us\n",
      "0:\tlearn: 3984.8585218\ttotal: 27.2ms\tremaining: 245ms\n",
      "9:\tlearn: 2042.3134702\ttotal: 267ms\tremaining: 0us\n",
      "0:\tlearn: 3998.7931032\ttotal: 25.8ms\tremaining: 232ms\n",
      "9:\tlearn: 2024.8960908\ttotal: 258ms\tremaining: 0us\n",
      "0:\tlearn: 3983.6196034\ttotal: 25.1ms\tremaining: 226ms\n",
      "9:\tlearn: 2040.0685728\ttotal: 282ms\tremaining: 0us\n",
      "0:\tlearn: 3430.6616387\ttotal: 24.7ms\tremaining: 2.45s\n",
      "99:\tlearn: 1500.4579139\ttotal: 2.53s\tremaining: 0us\n",
      "0:\tlearn: 3445.1588426\ttotal: 25.9ms\tremaining: 2.56s\n",
      "99:\tlearn: 1486.1753424\ttotal: 2.45s\tremaining: 0us\n",
      "0:\tlearn: 3425.6439406\ttotal: 25.3ms\tremaining: 2.5s\n",
      "99:\tlearn: 1492.2364024\ttotal: 2.45s\tremaining: 0us\n",
      "0:\tlearn: 3984.8585218\ttotal: 24.9ms\tremaining: 2.46s\n",
      "99:\tlearn: 1560.9491908\ttotal: 2.47s\tremaining: 0us\n",
      "0:\tlearn: 3998.7931032\ttotal: 24.7ms\tremaining: 2.44s\n",
      "99:\tlearn: 1547.4210699\ttotal: 2.48s\tremaining: 0us\n",
      "0:\tlearn: 3983.6196034\ttotal: 25.5ms\tremaining: 2.53s\n",
      "99:\tlearn: 1548.4248029\ttotal: 2.58s\tremaining: 0us\n",
      "0:\tlearn: 3425.9257344\ttotal: 45.1ms\tremaining: 8.97s\n",
      "100:\tlearn: 1494.8346546\ttotal: 3.91s\tremaining: 3.83s\n",
      "199:\tlearn: 1434.2881881\ttotal: 7.71s\tremaining: 0us\n",
      "0:\tlearn: 3439.1689262\ttotal: 44.8ms\tremaining: 8.91s\n",
      "100:\tlearn: 1482.8317777\ttotal: 3.91s\tremaining: 3.83s\n",
      "199:\tlearn: 1421.1207300\ttotal: 7.68s\tremaining: 0us\n",
      "0:\tlearn: 3430.6478941\ttotal: 45.6ms\tremaining: 9.08s\n",
      "100:\tlearn: 1483.3977691\ttotal: 3.85s\tremaining: 3.77s\n",
      "199:\tlearn: 1422.3604838\ttotal: 7.67s\tremaining: 0us\n",
      "0:\tlearn: 3982.6463761\ttotal: 44.7ms\tremaining: 8.9s\n",
      "100:\tlearn: 1546.5569915\ttotal: 4.06s\tremaining: 3.98s\n",
      "199:\tlearn: 1488.0208098\ttotal: 7.78s\tremaining: 0us\n",
      "0:\tlearn: 3995.9175937\ttotal: 43.5ms\tremaining: 8.65s\n",
      "100:\tlearn: 1535.3448430\ttotal: 3.82s\tremaining: 3.75s\n",
      "199:\tlearn: 1470.9165709\ttotal: 7.67s\tremaining: 0us\n",
      "0:\tlearn: 3986.1180600\ttotal: 46.4ms\tremaining: 9.23s\n",
      "100:\tlearn: 1538.4969187\ttotal: 3.89s\tremaining: 3.81s\n",
      "199:\tlearn: 1474.9219260\ttotal: 7.72s\tremaining: 0us\n",
      "0:\tlearn: 3357.5748619\ttotal: 33ms\tremaining: 297ms\n",
      "9:\tlearn: 1703.9639298\ttotal: 356ms\tremaining: 0us\n",
      "0:\tlearn: 3361.8463463\ttotal: 32.1ms\tremaining: 289ms\n",
      "9:\tlearn: 1683.6570210\ttotal: 331ms\tremaining: 0us\n",
      "0:\tlearn: 3353.8146740\ttotal: 32.1ms\tremaining: 289ms\n",
      "9:\tlearn: 1687.0153113\ttotal: 336ms\tremaining: 0us\n",
      "0:\tlearn: 3949.7834469\ttotal: 33ms\tremaining: 297ms\n",
      "9:\tlearn: 1950.2745355\ttotal: 328ms\tremaining: 0us\n",
      "0:\tlearn: 3958.8413976\ttotal: 32.5ms\tremaining: 292ms\n",
      "9:\tlearn: 1922.6098689\ttotal: 327ms\tremaining: 0us\n",
      "0:\tlearn: 3949.1813307\ttotal: 32.1ms\tremaining: 289ms\n",
      "9:\tlearn: 1926.6691676\ttotal: 333ms\tremaining: 0us\n",
      "0:\tlearn: 3357.5748619\ttotal: 33.2ms\tremaining: 3.29s\n",
      "99:\tlearn: 1407.9984351\ttotal: 3.42s\tremaining: 0us\n",
      "0:\tlearn: 3361.8463463\ttotal: 33.9ms\tremaining: 3.35s\n",
      "99:\tlearn: 1399.3399224\ttotal: 3.37s\tremaining: 0us\n",
      "0:\tlearn: 3353.8146740\ttotal: 34ms\tremaining: 3.36s\n",
      "99:\tlearn: 1398.3098453\ttotal: 3.4s\tremaining: 0us\n",
      "0:\tlearn: 3949.7834469\ttotal: 35.3ms\tremaining: 3.49s\n",
      "99:\tlearn: 1477.2564611\ttotal: 3.33s\tremaining: 0us\n",
      "0:\tlearn: 3958.8413976\ttotal: 33ms\tremaining: 3.26s\n",
      "99:\tlearn: 1458.7374913\ttotal: 3.5s\tremaining: 0us\n",
      "0:\tlearn: 3949.1813307\ttotal: 34.7ms\tremaining: 3.43s\n",
      "99:\tlearn: 1467.3797200\ttotal: 3.48s\tremaining: 0us\n",
      "0:\tlearn: 3345.4706233\ttotal: 64.9ms\tremaining: 12.9s\n",
      "100:\tlearn: 1401.6946257\ttotal: 5.32s\tremaining: 5.21s\n",
      "199:\tlearn: 1317.7711134\ttotal: 10.9s\tremaining: 0us\n",
      "0:\tlearn: 3360.3701028\ttotal: 63.3ms\tremaining: 12.6s\n",
      "100:\tlearn: 1391.2216334\ttotal: 5.39s\tremaining: 5.28s\n",
      "199:\tlearn: 1320.6881061\ttotal: 11.1s\tremaining: 0us\n",
      "0:\tlearn: 3348.1895242\ttotal: 64.4ms\tremaining: 12.8s\n",
      "100:\tlearn: 1400.7681282\ttotal: 5.82s\tremaining: 5.7s\n",
      "199:\tlearn: 1317.7849492\ttotal: 11.5s\tremaining: 0us\n",
      "0:\tlearn: 3944.0856626\ttotal: 64.4ms\tremaining: 12.8s\n",
      "100:\tlearn: 1464.4309849\ttotal: 5.8s\tremaining: 5.69s\n",
      "199:\tlearn: 1389.3312124\ttotal: 11.5s\tremaining: 0us\n",
      "0:\tlearn: 3958.1627665\ttotal: 59.6ms\tremaining: 11.9s\n",
      "100:\tlearn: 1443.5909988\ttotal: 5.64s\tremaining: 5.53s\n",
      "199:\tlearn: 1379.1855665\ttotal: 11.3s\tremaining: 0us\n",
      "0:\tlearn: 3946.5809904\ttotal: 67.1ms\tremaining: 13.3s\n",
      "100:\tlearn: 1451.8140174\ttotal: 5.44s\tremaining: 5.33s\n",
      "199:\tlearn: 1380.9560852\ttotal: 10.8s\tremaining: 0us\n",
      "0:\tlearn: 3375.8998631\ttotal: 80.4ms\tremaining: 16s\n",
      "100:\tlearn: 1405.3414524\ttotal: 6.97s\tremaining: 6.83s\n",
      "199:\tlearn: 1341.3760612\ttotal: 13.8s\tremaining: 0us\n",
      "{'depth': 8, 'iterations': 200, 'learning_rate': 0.4}\n",
      "1475.8674121295894\n"
     ]
    }
   ],
   "source": [
    "# Adjusting hyperparameters to CatBoostRegressor with GridSearchCV\n",
    "\n",
    "parameters = {'depth': [4, 6, 8],\n",
    "              'iterations': [10, 100, 200],\n",
    "              'learning_rate': [0.4, 0.2]\n",
    "              }\n",
    "\n",
    "grid_search = GridSearchCV(estimator = CatBoostRegressor(), \n",
    "                           param_grid = parameters, \n",
    "                           cv = 3, \n",
    "                           scoring = 'neg_mean_squared_error')\n",
    "\n",
    "cat_features = ['vehicle_type','gearbox','model','fuel_type','brand']\n",
    "\n",
    "start_time = time.time()\n",
    "grid_search.fit(X_train, y_train, cat_features=cat_features, verbose=100)\n",
    "train_time = time.time() - start_time\n",
    "\n",
    "# Best model and best parameters\n",
    "best_model_cb = grid_search.best_estimator_\n",
    "best_parameters  = grid_search.best_params_\n",
    "\n",
    "print(best_parameters)\n",
    "print(np.sqrt(-grid_search.best_score_))"
   ]
  },
  {
   "attachments": {},
   "cell_type": "markdown",
   "metadata": {},
   "source": [
    "Como vemos, hemos obtenido nuestros mejores hiperparámetros. A continuación realizaremos el entrenamiento final de este modelo CatBoostRegressor."
   ]
  },
  {
   "cell_type": "code",
   "execution_count": 71,
   "metadata": {},
   "outputs": [
    {
     "name": "stdout",
     "output_type": "stream",
     "text": [
      "0:\tlearn: 3375.8998631\ttotal: 81.5ms\tremaining: 16.2s\n",
      "100:\tlearn: 1405.3414524\ttotal: 6.8s\tremaining: 6.67s\n",
      "199:\tlearn: 1341.3760612\ttotal: 13.8s\tremaining: 0us\n",
      "\n",
      "RMSE= 1441.32,    time train: 14.16s,    time prediction: 0.10s\n"
     ]
    }
   ],
   "source": [
    "# Model CatBoostRegressor\n",
    "\n",
    "cat_features = ['vehicle_type','gearbox','model','fuel_type','brand']\n",
    "\n",
    "# Training\n",
    "start_time = time.time()\n",
    "best_model_cb.fit(X_train, y_train, cat_features=cat_features, verbose=100)\n",
    "train_time = time.time() - start_time\n",
    "\n",
    "# Predict \n",
    "start_time = time.time()\n",
    "y_predicts = best_model_cb.predict(X_valid)\n",
    "pred_time = time.time() - start_time\n",
    "\n",
    "# Metric\n",
    "rmse = mean_squared_error(y_valid, y_predicts, squared=False)\n",
    "print(\"\\nRMSE= {:.2f},    time train: {:.2f}s,    time prediction: {:.2f}s\".format(rmse, train_time, pred_time))\n",
    "\n",
    "# Save info\n",
    "summary_models.loc['CatBoostRegressor'] = {'model': best_model_cb, \n",
    "                                           'score_rmse': rmse, \n",
    "                                           'training_time_sec':train_time, \n",
    "                                           'prediction_speed_sec':pred_time}"
   ]
  },
  {
   "attachments": {},
   "cell_type": "markdown",
   "metadata": {},
   "source": [
    "Nuestro modelo con CatBoostRegressor tuvo un `RMSE` 1441, hasta el momento el mejor modelo. Sigamos entrenando un par de modelos más."
   ]
  },
  {
   "attachments": {},
   "cell_type": "markdown",
   "metadata": {},
   "source": [
    "### Modelo XGBRegressor\n",
    "\n",
    "Continuamos probando otro modelo con XGBXGBRegressor, también usa potenciación de gradiente. Usaremos nuestras características a las cuales aplicamos la codificación One-Hot `X_train_ohe`, `X_valid_ohe`."
   ]
  },
  {
   "cell_type": "code",
   "execution_count": 72,
   "metadata": {},
   "outputs": [
    {
     "name": "stdout",
     "output_type": "stream",
     "text": [
      "{'learning_rate': 0.2, 'max_depth': 8, 'n_estimators': 200}\n",
      "1478.5046497864537\n"
     ]
    }
   ],
   "source": [
    "# Adjusting hyperparameters to XGBRegressor with GridSearchCV\n",
    "\n",
    "parameters = {'max_depth': [4, 6, 8],\n",
    "              'n_estimators': [10, 100, 200],\n",
    "              'learning_rate': [0.4, 0.2]}\n",
    "\n",
    "grid_search = GridSearchCV(estimator = XGBRegressor(), \n",
    "                           param_grid = parameters, \n",
    "                           cv = 2, \n",
    "                           scoring = 'neg_mean_squared_error')\n",
    "\n",
    "grid_search.fit(X_train_ohe, y_train, verbose=100) \n",
    "\n",
    "# Best model and best parameters \n",
    "best_model_xgb = grid_search.best_estimator_\n",
    "best_parameters = grid_search.best_params_\n",
    "\n",
    "print(best_parameters)\n",
    "print(np.sqrt(-grid_search.best_score_))"
   ]
  },
  {
   "attachments": {},
   "cell_type": "markdown",
   "metadata": {},
   "source": [
    "Como vemos, hemos obtenido nuestros mejores hiperparámetros. A continuación realizaremos el entrenamiento final de este modelo XGBRegressor."
   ]
  },
  {
   "cell_type": "code",
   "execution_count": 73,
   "metadata": {},
   "outputs": [
    {
     "name": "stdout",
     "output_type": "stream",
     "text": [
      "\n",
      "RMSE= 1431.13,    time train: 47.22s,    time prediction: 0.62s\n"
     ]
    }
   ],
   "source": [
    "#  Model XGBRegressor\n",
    "\n",
    "# Training\n",
    "start_time = time.time()\n",
    "best_model_xgb.fit(X_train_ohe, y_train)\n",
    "train_time = time.time() - start_time\n",
    "\n",
    "# Predict\n",
    "start_time = time.time()\n",
    "y_predict = best_model_xgb.predict(X_valid_ohe)\n",
    "pred_time = time.time() - start_time\n",
    "\n",
    "# Metric \n",
    "rmse = mean_squared_error(y_valid, y_predict, squared=False)\n",
    "print(\"\\nRMSE= {:.2f},    time train: {:.2f}s,    time prediction: {:.2f}s\".format(rmse, train_time, pred_time))\n",
    "\n",
    "# Save info\n",
    "summary_models.loc['XGBRegressor'] = {'model': best_model_xgb, \n",
    "                                      'score_rmse': rmse, \n",
    "                                      'training_time_sec':train_time, \n",
    "                                      'prediction_speed_sec':pred_time}"
   ]
  },
  {
   "attachments": {},
   "cell_type": "markdown",
   "metadata": {},
   "source": [
    "Como vemos, hemos obtenido nuestros mejores hiperparámetros. A continuación realizaremos el entrenamiento final de este modelo CatBoostRegressor."
   ]
  },
  {
   "attachments": {},
   "cell_type": "markdown",
   "metadata": {},
   "source": [
    "### Modelo LGBMRegressor\n",
    "LGBMRegressor es también un modelo con potenciación de gradiente y funciona directamente con características categóricas al igual que CatBoost."
   ]
  },
  {
   "attachments": {},
   "cell_type": "markdown",
   "metadata": {},
   "source": [
    "Antes del entrenamiento, vamos a cambiar el tipo de datos de nuestras variables categóricas, al tipo `category`."
   ]
  },
  {
   "cell_type": "code",
   "execution_count": 74,
   "metadata": {},
   "outputs": [],
   "source": [
    "# Change categorical feature  \"object\" to \"category\"\n",
    "cat_features = ['vehicle_type','gearbox','model','fuel_type','brand']\n",
    "\n",
    "for col in cat_features:\n",
    "    X_train[col] = X_train[col].astype('category')\n",
    "    X_valid[col] = X_valid[col].astype('category')"
   ]
  },
  {
   "cell_type": "code",
   "execution_count": 75,
   "metadata": {},
   "outputs": [
    {
     "name": "stdout",
     "output_type": "stream",
     "text": [
      "{'learning_rate': 0.2, 'max_depth': 8, 'n_estimators': 200}\n",
      "1451.8387235779196\n"
     ]
    }
   ],
   "source": [
    "# Adjusting hyperparameters to LGBMRegressor with GridSearchCV\n",
    "\n",
    "parameters = {'max_depth':  [4, 6, 8],\n",
    "              'n_estimators': [10, 100, 200],\n",
    "              'learning_rate': [0.4, 0.2]}\n",
    "\n",
    "grid_search = GridSearchCV(estimator = LGBMRegressor(), \n",
    "                           param_grid = parameters, \n",
    "                           scoring='neg_mean_squared_error', \n",
    "                           cv=3)\n",
    "\n",
    "grid_search.fit(X_train, y_train)\n",
    "\n",
    "# Best model y parameters \n",
    "best_model_lgbm = grid_search.best_estimator_\n",
    "best_parameters = grid_search.best_params_\n",
    "\n",
    "print(best_parameters)\n",
    "print(np.sqrt(-grid_search.best_score_))"
   ]
  },
  {
   "attachments": {},
   "cell_type": "markdown",
   "metadata": {},
   "source": [
    "Como vemos, hemos obtenido nuestros mejores hiperparámetros. A continuación realizaremos el entrenamiento final de este modelo CatBoostRegressor."
   ]
  },
  {
   "cell_type": "code",
   "execution_count": 76,
   "metadata": {},
   "outputs": [
    {
     "name": "stdout",
     "output_type": "stream",
     "text": [
      "\n",
      "RMSE= 1579.44,    time train: 0.14s,    time prediction: 0.03s\n"
     ]
    }
   ],
   "source": [
    "#  Model LGBMRegressor\n",
    "best_model_lgbm = LGBMRegressor(max_depth = 10,\n",
    "                         n_estimators = 12,\n",
    "                         learning_rate = 0.5)\n",
    "\n",
    "# Entrenamos el modelo en el conjunto de entrenamiento\n",
    "start_time = time.time()\n",
    "best_model_lgbm.fit(X_train, y_train)\n",
    "train_time = time.time() - start_time\n",
    "\n",
    "# Realizamos predicciones en el conjunto de prueba\n",
    "start_time = time.time()\n",
    "y_predict = best_model_lgbm.predict(X_valid)\n",
    "pred_time = time.time() - start_time\n",
    "\n",
    "# Medimos la precisión del modelo en el conjunto de prueba utilizando el RMSE\n",
    "rmse = mean_squared_error(y_valid, y_predict, squared=False)\n",
    "\n",
    "# Print\n",
    "print(\"\\nRMSE= {:.2f},    time train: {:.2f}s,    time prediction: {:.2f}s\".format(rmse, train_time, pred_time))\n",
    "\n",
    "# Save info\n",
    "summary_models.loc['LGBMRegressor'] = {'model': best_model_lgbm, \n",
    "                                      'score_rmse': rmse, \n",
    "                                      'training_time_sec':train_time, \n",
    "                                      'prediction_speed_sec':pred_time}"
   ]
  },
  {
   "attachments": {},
   "cell_type": "markdown",
   "metadata": {},
   "source": [
    "## Análisis del modelo"
   ]
  },
  {
   "attachments": {},
   "cell_type": "markdown",
   "metadata": {},
   "source": [
    "Revisemos un resumen de nuestros mejores modelos. Nos interesa saber:\n",
    "- la calidad de la predicción\n",
    "- la velocidad de la predicción\n",
    "- el tiempo requerido para el entrenamiento\n"
   ]
  },
  {
   "cell_type": "code",
   "execution_count": 77,
   "metadata": {},
   "outputs": [
    {
     "data": {
      "text/html": [
       "<div>\n",
       "<style scoped>\n",
       "    .dataframe tbody tr th:only-of-type {\n",
       "        vertical-align: middle;\n",
       "    }\n",
       "\n",
       "    .dataframe tbody tr th {\n",
       "        vertical-align: top;\n",
       "    }\n",
       "\n",
       "    .dataframe thead th {\n",
       "        text-align: right;\n",
       "    }\n",
       "</style>\n",
       "<table border=\"1\" class=\"dataframe\">\n",
       "  <thead>\n",
       "    <tr style=\"text-align: right;\">\n",
       "      <th></th>\n",
       "      <th>model</th>\n",
       "      <th>score_rmse</th>\n",
       "      <th>training_time_sec</th>\n",
       "      <th>prediction_speed_sec</th>\n",
       "    </tr>\n",
       "  </thead>\n",
       "  <tbody>\n",
       "    <tr>\n",
       "      <th>LinearRegression</th>\n",
       "      <td>LinearRegression()</td>\n",
       "      <td>2149.977537</td>\n",
       "      <td>2.537752</td>\n",
       "      <td>0.077259</td>\n",
       "    </tr>\n",
       "    <tr>\n",
       "      <th>RandomForestRegressor</th>\n",
       "      <td>(DecisionTreeRegressor(max_depth=16, max_featu...</td>\n",
       "      <td>1539.974362</td>\n",
       "      <td>15.293413</td>\n",
       "      <td>0.109743</td>\n",
       "    </tr>\n",
       "    <tr>\n",
       "      <th>CatBoostRegressor</th>\n",
       "      <td>&lt;catboost.core.CatBoostRegressor object at 0x0...</td>\n",
       "      <td>1441.316760</td>\n",
       "      <td>14.156814</td>\n",
       "      <td>0.101458</td>\n",
       "    </tr>\n",
       "    <tr>\n",
       "      <th>XGBRegressor</th>\n",
       "      <td>XGBRegressor(base_score=None, booster=None, ca...</td>\n",
       "      <td>1431.128795</td>\n",
       "      <td>47.222970</td>\n",
       "      <td>0.617821</td>\n",
       "    </tr>\n",
       "    <tr>\n",
       "      <th>LGBMRegressor</th>\n",
       "      <td>LGBMRegressor(learning_rate=0.5, max_depth=10,...</td>\n",
       "      <td>1579.438238</td>\n",
       "      <td>0.141744</td>\n",
       "      <td>0.030173</td>\n",
       "    </tr>\n",
       "  </tbody>\n",
       "</table>\n",
       "</div>"
      ],
      "text/plain": [
       "                                                                   model   \n",
       "LinearRegression                                      LinearRegression()  \\\n",
       "RandomForestRegressor  (DecisionTreeRegressor(max_depth=16, max_featu...   \n",
       "CatBoostRegressor      <catboost.core.CatBoostRegressor object at 0x0...   \n",
       "XGBRegressor           XGBRegressor(base_score=None, booster=None, ca...   \n",
       "LGBMRegressor          LGBMRegressor(learning_rate=0.5, max_depth=10,...   \n",
       "\n",
       "                        score_rmse  training_time_sec  prediction_speed_sec  \n",
       "LinearRegression       2149.977537           2.537752              0.077259  \n",
       "RandomForestRegressor  1539.974362          15.293413              0.109743  \n",
       "CatBoostRegressor      1441.316760          14.156814              0.101458  \n",
       "XGBRegressor           1431.128795          47.222970              0.617821  \n",
       "LGBMRegressor          1579.438238           0.141744              0.030173  "
      ]
     },
     "execution_count": 77,
     "metadata": {},
     "output_type": "execute_result"
    }
   ],
   "source": [
    "summary_models"
   ]
  },
  {
   "attachments": {},
   "cell_type": "markdown",
   "metadata": {},
   "source": [
    "Podemos observar en resumen el entrenamiento de nuestros modelos a los cuales pudimos evaluar la calidad, tiempo de entrenamiento y tiempo de predicción. Obteniendo las siguientes conclusiones:\n",
    "\n",
    "- El modelo con mejor ajuste de acuerdo a su score RMSE fue el `XGBRegressor` con 46 sec de tiempo de entrenamiento, y 0.66 sec de tiempo de predicción. Este modelo es el más lento respecto al resto que entrenamos.\n",
    "\n",
    "- El modelo más veloz en su entrenamiento y predicción fue el `LGBMRegressor` CON 0.16 sec de tiempo de entrenamiento, y 0.04 sec de tiempo de predicción, realmente rápido, con un RMSE de 1579, tiene una diferencia entre sus socre de 148.\n",
    "\n",
    "- Nuestra prueba de cordura es aprobada, puesto que el modelo de regresión lineal sigue siendo el peor ajustado con un score de 2149 (RMSE)\n",
    "    "
   ]
  },
  {
   "attachments": {},
   "cell_type": "markdown",
   "metadata": {},
   "source": [
    "#  Conclusion general\n",
    " \n",
    "En este trabajo realizamos la preparación de datos realizando tareas como limpieza de registros duplicados, columnas innecesarias, tratamiento de valores ausentes de los cuales se decidió rellenar una parte de ellos y otra se eliminaron sin afectar la distribución de los datos en el resto de columnas. \n",
    "\n",
    "Luego, realizamos un análisis exploratorio de los datos, establecimos un periodo válido de los útlimos 20 años de los vehículos, se acuerdo a su año de registro (1996-2016), eliminamos valores outliers en la columna \"power\" lo cual ayudó a mejorar la distribución de los datos ene esta característica. En la columna \"precio\", se filtraron solo los registros con más de 100 euros de valor, ya que tenimos un 2% de registros cercanos o iguales a 0, lo que consideramos como ilógico.\n",
    "\n",
    "En el procesamiento de los datos, realizamos acciones para ayudar a nuestro modelos, por lo que se decidió estandarizar la escala de las columnas numéricas usando StandardScaler. Además se prepararon las caracteristicas con y sin codificación categórica usando One-Hot Encoding, esto con el fin de poder usarlas en los distintos modelos de entrenamiento de acuerdo a la necesidad.\n",
    "\n",
    "Finalmente, entrenamos varios modelos para la predicción del precio de los vehículos, de los cuales pudimos comparar varios métodos de potenciación del gradiente, bosque aleatorio, y regresión lineal, realizando un ajuste de hiperparámetros para encontrar mejores modelos.\n",
    "\n",
    "De acuerdo a la calidad y velocidad computacional, tuvimos que:\n",
    "- XGBRegressor: Modelo con excelente precisión, y el más lento.\n",
    "- CatBoostRegressor: Modelo con buena precisión y medianamente rápido.\n",
    "- LGBMRegressor: Modelo precisión aceptable y el más rápido.\n",
    "\n",
    "Podriamos recomendar a `CatBoostRegressor`, por su buena calidad y tiempo de procesamiento."
   ]
  }
 ],
 "metadata": {
  "kernelspec": {
   "display_name": "Python 3 (ipykernel)",
   "language": "python",
   "name": "python3"
  },
  "language_info": {
   "codemirror_mode": {
    "name": "ipython",
    "version": 3
   },
   "file_extension": ".py",
   "mimetype": "text/x-python",
   "name": "python",
   "nbconvert_exporter": "python",
   "pygments_lexer": "ipython3",
   "version": "3.9.15"
  },
  "toc": {
   "base_numbering": 1,
   "nav_menu": {},
   "number_sections": true,
   "sideBar": true,
   "skip_h1_title": true,
   "title_cell": "Table of Contents",
   "title_sidebar": "Contents",
   "toc_cell": false,
   "toc_position": {},
   "toc_section_display": true,
   "toc_window_display": false
  }
 },
 "nbformat": 4,
 "nbformat_minor": 2
}
